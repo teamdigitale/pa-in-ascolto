{
 "cells": [
  {
   "cell_type": "code",
   "execution_count": 1,
   "metadata": {},
   "outputs": [
    {
     "name": "stderr",
     "output_type": "stream",
     "text": [
      "/home/fabio/miniconda3/envs/dl/lib/python3.6/site-packages/h5py/__init__.py:36: FutureWarning: Conversion of the second argument of issubdtype from `float` to `np.floating` is deprecated. In future, it will be treated as `np.float64 == np.dtype(float).type`.\n",
      "  from ._conv import register_converters as _register_converters\n",
      "Using TensorFlow backend.\n"
     ]
    }
   ],
   "source": [
    "import numpy as np\n",
    "\n",
    "import json\n",
    "from keras.preprocessing import sequence\n",
    "from keras.utils import to_categorical\n",
    "from keras.models import *\n",
    "from keras.layers import *\n",
    "from keras.callbacks import *\n",
    "from keras.optimizers import *\n",
    "import keras.backend as K\n",
    "import tensorflow as tf"
   ]
  },
  {
   "cell_type": "code",
   "execution_count": 2,
   "metadata": {},
   "outputs": [],
   "source": [
    "with open('data/sentipolc_word_index.json', 'r') as f:\n",
    "    word_index = json.load(f)"
   ]
  },
  {
   "cell_type": "code",
   "execution_count": 3,
   "metadata": {},
   "outputs": [],
   "source": [
    "with open('data/words.tsv', 'w') as f:\n",
    "    for w,_ in word_index.items():\n",
    "        f.write('{}\\n'.format(w))"
   ]
  },
  {
   "cell_type": "code",
   "execution_count": 4,
   "metadata": {},
   "outputs": [],
   "source": [
    "words = [w for w,_ in word_index.items()]"
   ]
  },
  {
   "cell_type": "code",
   "execution_count": 5,
   "metadata": {},
   "outputs": [],
   "source": [
    "data = np.load('data/sentipolc_seq.npz')\n",
    "\n",
    "x_train = data['x_train']\n",
    "y_train = data['y_train']\n",
    "\n",
    "x_test = data['x_test']\n",
    "y_test = data['y_test']"
   ]
  },
  {
   "cell_type": "markdown",
   "metadata": {},
   "source": [
    "Check the max length of the text"
   ]
  },
  {
   "cell_type": "code",
   "execution_count": 6,
   "metadata": {
    "scrolled": true
   },
   "outputs": [
    {
     "name": "stdout",
     "output_type": "stream",
     "text": [
      "max len seq 40\n",
      "max id 10208\n"
     ]
    }
   ],
   "source": [
    "max_len_seq = max([len(x) for x in x_train])\n",
    "print('max len seq {}'.format(max_len_seq))\n",
    "max_idx = max(np.array(x_train).max())\n",
    "print('max id {}'.format(max_idx))"
   ]
  },
  {
   "cell_type": "code",
   "execution_count": 7,
   "metadata": {},
   "outputs": [],
   "source": [
    "max_features = 5000"
   ]
  },
  {
   "cell_type": "code",
   "execution_count": 8,
   "metadata": {},
   "outputs": [],
   "source": [
    "def vectorize(data, max_idx):\n",
    "    results = np.zeros((len(data), max_idx))\n",
    "    for i, sequence in enumerate(data):\n",
    "        filtered = [x for x in sequence if x < max_idx]\n",
    "        results[i, filtered] = 1.\n",
    "    return results"
   ]
  },
  {
   "cell_type": "code",
   "execution_count": 9,
   "metadata": {},
   "outputs": [],
   "source": [
    "x_train_vect = vectorize(x_train, max_features)\n",
    "x_test_vect = vectorize(x_test, max_features)"
   ]
  },
  {
   "cell_type": "code",
   "execution_count": 10,
   "metadata": {},
   "outputs": [
    {
     "data": {
      "text/plain": [
       "(4154, 5000)"
      ]
     },
     "execution_count": 10,
     "metadata": {},
     "output_type": "execute_result"
    }
   ],
   "source": [
    "x_train_vect.shape"
   ]
  },
  {
   "cell_type": "markdown",
   "metadata": {},
   "source": [
    "# Define metrics"
   ]
  },
  {
   "cell_type": "code",
   "execution_count": 11,
   "metadata": {},
   "outputs": [],
   "source": [
    "def precision(y_true, y_pred):\n",
    "    \"\"\"Precision metric.\n",
    "\n",
    "    Only computes a batch-wise average of precision.\n",
    "     Computes the precision, a metric for multi-label classification of\n",
    "     how many selected items are relevant.\n",
    "      \"\"\"\n",
    "    true_positives = K.sum(K.round(K.clip(y_true * y_pred, 0, 1)))\t\t\n",
    "    predicted_positives = K.sum(K.round(K.clip(y_pred, 0, 1)))\t\t\n",
    "    precision = true_positives / (predicted_positives + K.epsilon())\t\t\n",
    "    return precision"
   ]
  },
  {
   "cell_type": "code",
   "execution_count": 12,
   "metadata": {},
   "outputs": [],
   "source": [
    "def recall(y_true, y_pred):\n",
    "    \"\"\"Recall metric.\n",
    " \n",
    "    Only computes a batch-wise average of recall.\n",
    "    Computes the recall, a metric for multi-label classification of\n",
    "    how many relevant items are selected.\n",
    "    \"\"\"\n",
    "    true_positives = K.sum(K.round(K.clip(y_true * y_pred, 0, 1)))\n",
    "    possible_positives = K.sum(K.round(K.clip(y_true, 0, 1)))\n",
    "    recall = true_positives / (possible_positives + K.epsilon())\n",
    "    return recall"
   ]
  },
  {
   "cell_type": "code",
   "execution_count": 13,
   "metadata": {},
   "outputs": [],
   "source": [
    "from sklearn.model_selection import StratifiedShuffleSplit\n",
    "\n",
    "split_train_val = StratifiedShuffleSplit(1,test_size=0.2, random_state=123456)\n",
    "\n",
    "for train, val in split_train_val.split(x_train_vect, y_train):\n",
    "    x_train_split, y_train_split = x_train_vect[train], y_train[train]\n",
    "    x_val_split, y_val_split = x_train_vect[val], y_train[val]"
   ]
  },
  {
   "cell_type": "code",
   "execution_count": 14,
   "metadata": {
    "scrolled": true
   },
   "outputs": [],
   "source": [
    "callbacks = [\n",
    "    ReduceLROnPlateau(patience=2, verbose=1),\n",
    "    EarlyStopping(monitor='val_loss', min_delta=0, patience=5, verbose=1, mode='auto')\n",
    "]"
   ]
  },
  {
   "cell_type": "code",
   "execution_count": 18,
   "metadata": {
    "scrolled": false
   },
   "outputs": [],
   "source": [
    "def build_model():\n",
    "    model = Sequential()\n",
    "    model.add(Dense(8, input_shape=(max_features,), activation='relu'))\n",
    "    model.add(Dense(1, activation='sigmoid'))\n",
    "    model.compile(loss='binary_crossentropy', optimizer=Adam(), metrics=['accuracy'])\n",
    "    \n",
    "    return model"
   ]
  },
  {
   "cell_type": "code",
   "execution_count": 19,
   "metadata": {
    "scrolled": false
   },
   "outputs": [
    {
     "name": "stdout",
     "output_type": "stream",
     "text": [
      "_________________________________________________________________\n",
      "Layer (type)                 Output Shape              Param #   \n",
      "=================================================================\n",
      "dense_3 (Dense)              (None, 8)                 40008     \n",
      "_________________________________________________________________\n",
      "dense_4 (Dense)              (None, 1)                 9         \n",
      "=================================================================\n",
      "Total params: 40,017\n",
      "Trainable params: 40,017\n",
      "Non-trainable params: 0\n",
      "_________________________________________________________________\n"
     ]
    }
   ],
   "source": [
    "model = build_model()\n",
    "model.summary()"
   ]
  },
  {
   "cell_type": "code",
   "execution_count": 20,
   "metadata": {
    "scrolled": false
   },
   "outputs": [
    {
     "name": "stdout",
     "output_type": "stream",
     "text": [
      "Train on 3323 samples, validate on 831 samples\n",
      "Epoch 1/20\n",
      "3323/3323 [==============================] - 1s 353us/step - loss: 0.6705 - acc: 0.6010 - val_loss: 0.6442 - val_acc: 0.6161\n",
      "Epoch 2/20\n",
      "3323/3323 [==============================] - 0s 54us/step - loss: 0.6202 - acc: 0.6235 - val_loss: 0.6150 - val_acc: 0.6498\n",
      "Epoch 3/20\n",
      "3323/3323 [==============================] - 0s 54us/step - loss: 0.5823 - acc: 0.6804 - val_loss: 0.5951 - val_acc: 0.7004\n",
      "Epoch 4/20\n",
      "3323/3323 [==============================] - 0s 56us/step - loss: 0.5439 - acc: 0.7424 - val_loss: 0.5725 - val_acc: 0.7461\n",
      "Epoch 5/20\n",
      "3323/3323 [==============================] - 0s 56us/step - loss: 0.4980 - acc: 0.7921 - val_loss: 0.5493 - val_acc: 0.7557\n",
      "Epoch 6/20\n",
      "3323/3323 [==============================] - 0s 56us/step - loss: 0.4532 - acc: 0.8261 - val_loss: 0.5313 - val_acc: 0.7653\n",
      "Epoch 7/20\n",
      "3323/3323 [==============================] - 0s 56us/step - loss: 0.4133 - acc: 0.8577 - val_loss: 0.5166 - val_acc: 0.7653\n",
      "Epoch 8/20\n",
      "3323/3323 [==============================] - 0s 55us/step - loss: 0.3790 - acc: 0.8775 - val_loss: 0.5059 - val_acc: 0.7605\n",
      "Epoch 9/20\n",
      "3323/3323 [==============================] - 0s 55us/step - loss: 0.3491 - acc: 0.8896 - val_loss: 0.4978 - val_acc: 0.7726\n",
      "Epoch 10/20\n",
      "3323/3323 [==============================] - 0s 55us/step - loss: 0.3231 - acc: 0.8977 - val_loss: 0.4934 - val_acc: 0.7702\n",
      "Epoch 11/20\n",
      "3323/3323 [==============================] - 0s 57us/step - loss: 0.2996 - acc: 0.9091 - val_loss: 0.4882 - val_acc: 0.7774\n",
      "Epoch 12/20\n",
      "3323/3323 [==============================] - 0s 57us/step - loss: 0.2785 - acc: 0.9163 - val_loss: 0.4870 - val_acc: 0.7750\n",
      "Epoch 13/20\n",
      "3323/3323 [==============================] - 0s 59us/step - loss: 0.2602 - acc: 0.9251 - val_loss: 0.4858 - val_acc: 0.7714\n",
      "Epoch 14/20\n",
      "3323/3323 [==============================] - 0s 56us/step - loss: 0.2433 - acc: 0.9311 - val_loss: 0.4861 - val_acc: 0.7714\n",
      "Epoch 15/20\n",
      "3323/3323 [==============================] - 0s 54us/step - loss: 0.2286 - acc: 0.9377 - val_loss: 0.4874 - val_acc: 0.7726\n",
      "Epoch 16/20\n",
      "3323/3323 [==============================] - 0s 60us/step - loss: 0.2151 - acc: 0.9422 - val_loss: 0.4899 - val_acc: 0.7726\n",
      "\n",
      "Epoch 00016: ReduceLROnPlateau reducing learning rate to 0.00010000000474974513.\n",
      "Epoch 17/20\n",
      "3323/3323 [==============================] - 0s 55us/step - loss: 0.2044 - acc: 0.9506 - val_loss: 0.4901 - val_acc: 0.7726\n",
      "Epoch 18/20\n",
      "3323/3323 [==============================] - 0s 53us/step - loss: 0.2032 - acc: 0.9509 - val_loss: 0.4903 - val_acc: 0.7750\n",
      "\n",
      "Epoch 00018: ReduceLROnPlateau reducing learning rate to 1.0000000474974514e-05.\n",
      "Epoch 00018: early stopping\n"
     ]
    }
   ],
   "source": [
    "history = model.fit(x_train_split, y_train_split, \n",
    "                    validation_data=(x_val_split, y_val_split),\n",
    "                    batch_size=128, epochs=20, callbacks=callbacks)"
   ]
  },
  {
   "cell_type": "markdown",
   "metadata": {},
   "source": [
    "## Evaluate on the test set"
   ]
  },
  {
   "cell_type": "code",
   "execution_count": 22,
   "metadata": {},
   "outputs": [
    {
     "name": "stdout",
     "output_type": "stream",
     "text": [
      "Epoch 1/5\n",
      "4154/4154 [==============================] - 0s 84us/step - loss: 0.6730 - acc: 0.6129\n",
      "Epoch 2/5\n",
      "4154/4154 [==============================] - 0s 44us/step - loss: 0.6209 - acc: 0.6909\n",
      "Epoch 3/5\n",
      "4154/4154 [==============================] - 0s 44us/step - loss: 0.5644 - acc: 0.7677\n",
      "Epoch 4/5\n",
      "4154/4154 [==============================] - 0s 44us/step - loss: 0.5044 - acc: 0.8072\n",
      "Epoch 5/5\n",
      "4154/4154 [==============================] - 0s 43us/step - loss: 0.4523 - acc: 0.8402\n"
     ]
    }
   ],
   "source": [
    "model = build_model()\n",
    "\n",
    "history = model.fit(x_train_vect, y_train, batch_size=128, epochs=5)"
   ]
  },
  {
   "cell_type": "code",
   "execution_count": 24,
   "metadata": {},
   "outputs": [
    {
     "name": "stdout",
     "output_type": "stream",
     "text": [
      "1050/1050 [==============================] - 0s 397us/step\n"
     ]
    }
   ],
   "source": [
    "loss, acc = model.evaluate(x_test_vect,y_test,3)"
   ]
  },
  {
   "cell_type": "code",
   "execution_count": 25,
   "metadata": {},
   "outputs": [
    {
     "name": "stdout",
     "output_type": "stream",
     "text": [
      "loss 0.5671231577651842, acc 0.7133333441189357\n"
     ]
    }
   ],
   "source": [
    "print('loss {}, acc {}'.format(loss, acc))"
   ]
  },
  {
   "cell_type": "code",
   "execution_count": null,
   "metadata": {},
   "outputs": [],
   "source": [
    "#model.save('models/sentipolc_word_lstm.hdf5')"
   ]
  },
  {
   "cell_type": "code",
   "execution_count": null,
   "metadata": {},
   "outputs": [],
   "source": []
  }
 ],
 "metadata": {
  "kernelspec": {
   "display_name": "Python 3",
   "language": "python",
   "name": "python3"
  },
  "language_info": {
   "codemirror_mode": {
    "name": "ipython",
    "version": 3
   },
   "file_extension": ".py",
   "mimetype": "text/x-python",
   "name": "python",
   "nbconvert_exporter": "python",
   "pygments_lexer": "ipython3",
   "version": "3.6.5"
  }
 },
 "nbformat": 4,
 "nbformat_minor": 2
}
