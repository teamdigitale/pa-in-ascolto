{
 "cells": [
  {
   "cell_type": "code",
   "execution_count": 1,
   "metadata": {},
   "outputs": [
    {
     "name": "stderr",
     "output_type": "stream",
     "text": [
      "Using TensorFlow backend.\n"
     ]
    }
   ],
   "source": [
    "import sys\n",
    "sys.path.append('../src')\n",
    "import warnings\n",
    "warnings.filterwarnings('ignore')\n",
    "import ast\n",
    "import json\n",
    "import numpy as np\n",
    "import pandas as pd\n",
    "from keras.preprocessing import sequence\n",
    "from keras.models import Sequential\n",
    "from keras.layers import Dense\n",
    "import json\n",
    "from keras.preprocessing import sequence\n",
    "from keras.utils import to_categorical\n",
    "from keras.models import *\n",
    "from keras.layers import *\n",
    "from keras.callbacks import *\n",
    "from keras.optimizers import *\n",
    "import keras.backend as K\n",
    "from sklearn.utils import resample\n",
    "from sklearn.model_selection import StratifiedShuffleSplit\n",
    "import matplotlib.pyplot as plt\n",
    "%matplotlib inline"
   ]
  },
  {
   "cell_type": "code",
   "execution_count": 2,
   "metadata": {},
   "outputs": [],
   "source": [
    "# Import data\n",
    "df = pd.read_csv('../data/output/tripadvisor/dataset_sequence.csv', sep = ';')[['review_rating', 'review_text_token_flag_index']]\n",
    "df['review_text_token_flag_index_list'] = df['review_text_token_flag_index'].apply(lambda x: ast.literal_eval(x))"
   ]
  },
  {
   "cell_type": "markdown",
   "metadata": {},
   "source": [
    "# Split data in train, test and validation\n",
    "\n",
    "Prima di procede con lo split verifico se il dataset è bilanciato o no rispetto le classi."
   ]
  },
  {
   "cell_type": "code",
   "execution_count": 3,
   "metadata": {},
   "outputs": [
    {
     "data": {
      "text/plain": [
       "1    69157\n",
       "0     6632\n",
       "Name: review_rating_01, dtype: int64"
      ]
     },
     "execution_count": 3,
     "metadata": {},
     "output_type": "execute_result"
    }
   ],
   "source": [
    "df['review_rating_01'] = df['review_rating'].apply(lambda x: 1 if x==1 else 0)\n",
    "df['review_rating_01'].value_counts()"
   ]
  },
  {
   "cell_type": "markdown",
   "metadata": {},
   "source": [
    "Si osserva che il dataset è fortemente sbilanciato, il che potrebbe implicare una'ottima capacità di individuare review positive e una scarsa abilità ad individuare le negative. Per affrontare tale, ricorrente, problema, si prendono in considerazione quattro diverse strategie:\n",
    "\n",
    "1. Down-sample Majority Class: dove al contrario si scelgono randomicamente without replacement esempi positivi da rimuovere per pareggiare la classe in minoranza\n",
    "2. Up-sample Minority Class: dove randomicamente without replacement si pescano sample negativi fino a pareggiare le due classi\n",
    "3. Rebalance che prevede di allenare il modello su più dataset bilanciati. In particolare, in questo caso, si creano 10 dataset di 6632 unità negative e altrettante 6632 positive scelte in modo random, così che almeno tutti i campioni positivi siano visti dai modelli. Si procede quindi con *voting procedure* rispetto alle predizioni dei 10 modelli per predire la classe definitiva.\n",
    "4. Rebalancing in fase di K-fold\n",
    "\n",
    "\n",
    "__Prima di procedere con le operazioni creiamo il validation set composto dal 10% dei nostri sample (metà negativo e metà positivo). __\n",
    "\n"
   ]
  },
  {
   "cell_type": "code",
   "execution_count": 2,
   "metadata": {},
   "outputs": [],
   "source": [
    "from train_test import *"
   ]
  },
  {
   "cell_type": "code",
   "execution_count": 5,
   "metadata": {},
   "outputs": [],
   "source": [
    "df_validation, df_majority, df_minority = create_balanced_validation(df, 1, percentage = 5)"
   ]
  },
  {
   "cell_type": "markdown",
   "metadata": {},
   "source": [
    "\n",
    "Procediamo con il Down-sample della Majority Class.\n",
    "\n",
    "\n",
    "* Separiamo i sample delle due classi in due df\n",
    "* Facciamo samplin senza reimissione così da ottenere un numero si esempi pari al numero di sample della minority class.\n",
    "* Combiniamo i due dataset."
   ]
  },
  {
   "cell_type": "code",
   "execution_count": 3,
   "metadata": {},
   "outputs": [],
   "source": [
    "from balancing import *"
   ]
  },
  {
   "cell_type": "code",
   "execution_count": 7,
   "metadata": {},
   "outputs": [
    {
     "name": "stdout",
     "output_type": "stream",
     "text": [
      "1    4738\n",
      "0    4738\n",
      "Name: review_rating_01, dtype: int64\n"
     ]
    }
   ],
   "source": [
    "df_downsampled = downsample_majority_class(df_majority, df_minority)"
   ]
  },
  {
   "cell_type": "markdown",
   "metadata": {},
   "source": [
    "## Define X and Y for the training step"
   ]
  },
  {
   "cell_type": "code",
   "execution_count": 8,
   "metadata": {},
   "outputs": [
    {
     "name": "stdout",
     "output_type": "stream",
     "text": [
      "max len seq 937\n",
      "max id 60841\n"
     ]
    }
   ],
   "source": [
    "x_train_pad, y_train, x_validation_pad, y_validation, max_len_seq, max_idx = train_validation_tripadvisor(df_downsampled, df_validation)"
   ]
  },
  {
   "cell_type": "markdown",
   "metadata": {},
   "source": [
    "## Split in train and test\n",
    "\n",
    "We split in train and set using the Stratified Shuffle Split that draws sample s.t. the proportin of the classes holds both in the train and test."
   ]
  },
  {
   "cell_type": "code",
   "execution_count": 9,
   "metadata": {},
   "outputs": [],
   "source": [
    "split_train_test = StratifiedShuffleSplit(1,test_size=0.2, random_state=123456)\n",
    "\n",
    "for train, test in split_train_test.split(x_train_pad, y_train):\n",
    "    x_train_pad_split, y_train_pad_split = x_train_pad[train], y_train[train]\n",
    "    x_val_pad_split, y_val_pad_split = x_train_pad[test], y_train[test]"
   ]
  },
  {
   "cell_type": "markdown",
   "metadata": {},
   "source": [
    "## Build the model"
   ]
  },
  {
   "cell_type": "code",
   "execution_count": 4,
   "metadata": {},
   "outputs": [],
   "source": [
    "from evaluation_metrics import *"
   ]
  },
  {
   "cell_type": "code",
   "execution_count": 11,
   "metadata": {},
   "outputs": [],
   "source": [
    "def build_model():\n",
    "    \n",
    "    model = Sequential()\n",
    "    model.add(Embedding(input_dim=max_idx+1, output_dim=50, input_length=max_len_seq))\n",
    "    model.add(Conv1D(filters=8, kernel_size=10, padding='same', activation='relu', strides=2))\n",
    "    model.add(MaxPooling1D(2))\n",
    "    model.add(Conv1D(filters=8, kernel_size=10, padding='same', activation='relu', strides=2))\n",
    "    model.add(GlobalMaxPool1D())\n",
    "    model.add(Dense(50, activation='relu'))\n",
    "    model.add(Dropout(0.5))\n",
    "    model.add(Dense(1, activation='sigmoid'))\n",
    "    model.compile(loss='binary_crossentropy', optimizer=Adam(), metrics=['accuracy', precision, recall])\n",
    "    \n",
    "    return model"
   ]
  },
  {
   "cell_type": "code",
   "execution_count": 12,
   "metadata": {},
   "outputs": [
    {
     "name": "stdout",
     "output_type": "stream",
     "text": [
      "WARNING:tensorflow:From /anaconda3/lib/python3.6/site-packages/tensorflow/python/util/deprecation.py:497: calling conv1d (from tensorflow.python.ops.nn_ops) with data_format=NHWC is deprecated and will be removed in a future version.\n",
      "Instructions for updating:\n",
      "`NHWC` for data_format is deprecated, use `NWC` instead\n",
      "_________________________________________________________________\n",
      "Layer (type)                 Output Shape              Param #   \n",
      "=================================================================\n",
      "embedding_1 (Embedding)      (None, 937, 50)           3042100   \n",
      "_________________________________________________________________\n",
      "conv1d_1 (Conv1D)            (None, 469, 8)            4008      \n",
      "_________________________________________________________________\n",
      "max_pooling1d_1 (MaxPooling1 (None, 234, 8)            0         \n",
      "_________________________________________________________________\n",
      "conv1d_2 (Conv1D)            (None, 117, 8)            648       \n",
      "_________________________________________________________________\n",
      "global_max_pooling1d_1 (Glob (None, 8)                 0         \n",
      "_________________________________________________________________\n",
      "dense_1 (Dense)              (None, 50)                450       \n",
      "_________________________________________________________________\n",
      "dropout_1 (Dropout)          (None, 50)                0         \n",
      "_________________________________________________________________\n",
      "dense_2 (Dense)              (None, 1)                 51        \n",
      "=================================================================\n",
      "Total params: 3,047,257\n",
      "Trainable params: 3,047,257\n",
      "Non-trainable params: 0\n",
      "_________________________________________________________________\n"
     ]
    }
   ],
   "source": [
    "model = build_model()\n",
    "model.summary()"
   ]
  },
  {
   "cell_type": "markdown",
   "metadata": {},
   "source": [
    "## Prova\n",
    "\n",
    "1. buono con filters=8, window = 10, stride = 2"
   ]
  },
  {
   "cell_type": "code",
   "execution_count": 13,
   "metadata": {},
   "outputs": [
    {
     "name": "stdout",
     "output_type": "stream",
     "text": [
      "Train on 7580 samples, validate on 1896 samples\n",
      "Epoch 1/10\n",
      "7580/7580 [==============================] - 19s 2ms/step - loss: 0.6892 - acc: 0.5402 - precision: 0.6442 - recall: 0.1925 - val_loss: 0.6781 - val_acc: 0.6340 - val_precision: 0.7881 - val_recall: 0.3678\n",
      "Epoch 2/10\n",
      "7580/7580 [==============================] - 15s 2ms/step - loss: 0.6078 - acc: 0.7278 - precision: 0.8263 - recall: 0.5787 - val_loss: 0.4782 - val_acc: 0.8228 - val_precision: 0.8259 - val_recall: 0.8195\n",
      "Epoch 3/10\n",
      "7580/7580 [==============================] - 14s 2ms/step - loss: 0.3306 - acc: 0.8817 - precision: 0.8756 - recall: 0.8899 - val_loss: 0.2449 - val_acc: 0.9051 - val_precision: 0.8924 - val_recall: 0.9221\n",
      "Epoch 4/10\n",
      "7580/7580 [==============================] - 14s 2ms/step - loss: 0.1579 - acc: 0.9476 - precision: 0.9390 - recall: 0.9570 - val_loss: 0.2179 - val_acc: 0.9124 - val_precision: 0.9165 - val_recall: 0.9072\n",
      "Epoch 5/10\n",
      "7580/7580 [==============================] - 14s 2ms/step - loss: 0.0877 - acc: 0.9726 - precision: 0.9669 - recall: 0.9785 - val_loss: 0.2469 - val_acc: 0.9103 - val_precision: 0.9320 - val_recall: 0.8853\n",
      "Epoch 6/10\n",
      "7580/7580 [==============================] - 14s 2ms/step - loss: 0.0555 - acc: 0.9847 - precision: 0.9797 - recall: 0.9899 - val_loss: 0.2509 - val_acc: 0.9161 - val_precision: 0.9156 - val_recall: 0.9170\n",
      "Epoch 7/10\n",
      "7580/7580 [==============================] - 14s 2ms/step - loss: 0.0363 - acc: 0.9897 - precision: 0.9874 - recall: 0.9920 - val_loss: 0.2778 - val_acc: 0.9146 - val_precision: 0.9203 - val_recall: 0.9085\n",
      "Epoch 8/10\n",
      "7580/7580 [==============================] - 14s 2ms/step - loss: 0.0228 - acc: 0.9942 - precision: 0.9926 - recall: 0.9958 - val_loss: 0.3181 - val_acc: 0.9066 - val_precision: 0.9290 - val_recall: 0.8808\n",
      "Epoch 9/10\n",
      "7580/7580 [==============================] - 16s 2ms/step - loss: 0.0159 - acc: 0.9967 - precision: 0.9963 - recall: 0.9971 - val_loss: 0.3327 - val_acc: 0.9056 - val_precision: 0.9205 - val_recall: 0.8879\n",
      "Epoch 10/10\n",
      "7580/7580 [==============================] - 13s 2ms/step - loss: 0.0093 - acc: 0.9989 - precision: 0.9984 - recall: 0.9995 - val_loss: 0.3639 - val_acc: 0.9061 - val_precision: 0.9192 - val_recall: 0.8916\n"
     ]
    }
   ],
   "source": [
    "history = model.fit(x_train_pad_split, y_train_pad_split, validation_data=(x_val_pad_split, y_val_pad_split),\n",
    "                    batch_size=200, validation_split=0.2, epochs=10)"
   ]
  },
  {
   "cell_type": "code",
   "execution_count": 14,
   "metadata": {},
   "outputs": [
    {
     "data": {
      "text/plain": [
       "<matplotlib.legend.Legend at 0x115295a20>"
      ]
     },
     "execution_count": 14,
     "metadata": {},
     "output_type": "execute_result"
    },
    {
     "data": {
      "image/png": "[encoded data removed]",
      "text/plain": [
       "<matplotlib.figure.Figure at 0x1a3d2ad358>"
      ]
     },
     "metadata": {},
     "output_type": "display_data"
    }
   ],
   "source": [
    "plt.plot(history.history['acc'])\n",
    "plt.plot(history.history['val_acc'])\n",
    "plt.plot(history.history['precision'])\n",
    "plt.plot(history.history['val_precision'])\n",
    "plt.ylabel('metrics')\n",
    "plt.xlabel('epoch')\n",
    "plt.legend(['acc_train', 'acc_test', 'prec_train', 'prec_test'], loc='lower right')"
   ]
  },
  {
   "cell_type": "markdown",
   "metadata": {},
   "source": [
    "## Evaluate the model on the validation set\n",
    "\n",
    "* We compute the class predictions\n",
    "* We see the evaluation using precision, recall, f1 and accuracy"
   ]
  },
  {
   "cell_type": "code",
   "execution_count": 15,
   "metadata": {},
   "outputs": [],
   "source": [
    "prediction = model.predict_classes(x_validation_pad)"
   ]
  },
  {
   "cell_type": "code",
   "execution_count": 16,
   "metadata": {},
   "outputs": [
    {
     "name": "stdout",
     "output_type": "stream",
     "text": [
      "Modelevaluation: \n",
      "Accuracy: 0.9200105596620908 \n",
      "Precision: 0.9076029567053854 \n",
      "Recall: 0.9306984298863021 \n",
      "F1: 0.9190056134723336\n"
     ]
    }
   ],
   "source": [
    "evaluate_model(model, x_validation_pad, y_validation)"
   ]
  },
  {
   "cell_type": "markdown",
   "metadata": {},
   "source": [
    "These metrics are computed on a validation set that has been randomly created (explanation throughout the pipeline). Thus, if the notebook will be executed again those can vary."
   ]
  }
 ],
 "metadata": {
  "kernelspec": {
   "display_name": "Python 3",
   "language": "python",
   "name": "python3"
  },
  "language_info": {
   "codemirror_mode": {
    "name": "ipython",
    "version": 3
   },
   "file_extension": ".py",
   "mimetype": "text/x-python",
   "name": "python",
   "nbconvert_exporter": "python",
   "pygments_lexer": "ipython3",
   "version": "3.6.4"
  }
 },
 "nbformat": 4,
 "nbformat_minor": 2
}
