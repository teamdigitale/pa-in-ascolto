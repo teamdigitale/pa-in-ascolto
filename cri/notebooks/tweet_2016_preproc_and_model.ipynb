{
 "cells": [
  {
   "cell_type": "code",
   "execution_count": 2,
   "metadata": {},
   "outputs": [
    {
     "name": "stderr",
     "output_type": "stream",
     "text": [
      "Using TensorFlow backend.\n"
     ]
    }
   ],
   "source": [
    "import sys\n",
    "sys.path.append('../src')\n",
    "import warnings\n",
    "warnings.filterwarnings('ignore')\n",
    "import numpy as np\n",
    "import pandas as pd\n",
    "import json\n",
    "import ast\n",
    "import json\n",
    "import numpy as np\n",
    "import pandas as pd\n",
    "from keras.preprocessing import sequence\n",
    "from keras.models import Sequential\n",
    "from keras.layers import Dense\n",
    "import json\n",
    "from keras.preprocessing import sequence\n",
    "from keras.utils import to_categorical\n",
    "from keras.models import *\n",
    "from keras.layers import *\n",
    "from keras.callbacks import *\n",
    "from keras.optimizers import *\n",
    "import keras.backend as K\n",
    "import string\n",
    "import preprocessor as p\n",
    "from preprocessing import *\n",
    "from sklearn.model_selection import StratifiedShuffleSplit\n",
    "import matplotlib.pyplot as plt\n",
    "%matplotlib inline"
   ]
  },
  {
   "cell_type": "code",
   "execution_count": 3,
   "metadata": {},
   "outputs": [],
   "source": [
    "train_file = '../data/raw/twitter-sentpol/SENTIPOLC Sentiment Polarity Classification - Evalita 2016.csv'\n",
    "test_file = '../data/raw/twitter-sentpol/test_set_sentipolc16_gold2000.csv'"
   ]
  },
  {
   "cell_type": "markdown",
   "metadata": {},
   "source": [
    "## Load Train and Test Dataset"
   ]
  },
  {
   "cell_type": "code",
   "execution_count": 13,
   "metadata": {},
   "outputs": [
    {
     "data": {
      "text/html": [
       "<div>\n",
       "<style scoped>\n",
       "    .dataframe tbody tr th:only-of-type {\n",
       "        vertical-align: middle;\n",
       "    }\n",
       "\n",
       "    .dataframe tbody tr th {\n",
       "        vertical-align: top;\n",
       "    }\n",
       "\n",
       "    .dataframe thead th {\n",
       "        text-align: right;\n",
       "    }\n",
       "</style>\n",
       "<table border=\"1\" class=\"dataframe\">\n",
       "  <thead>\n",
       "    <tr style=\"text-align: right;\">\n",
       "      <th></th>\n",
       "      <th>idtwitter</th>\n",
       "      <th>subj</th>\n",
       "      <th>opos</th>\n",
       "      <th>oneg</th>\n",
       "      <th>iro</th>\n",
       "      <th>lpos</th>\n",
       "      <th>lneg</th>\n",
       "      <th>top</th>\n",
       "      <th>text</th>\n",
       "    </tr>\n",
       "  </thead>\n",
       "  <tbody>\n",
       "    <tr>\n",
       "      <th>0</th>\n",
       "      <td>122449983151669248</td>\n",
       "      <td>1</td>\n",
       "      <td>0</td>\n",
       "      <td>1</td>\n",
       "      <td>0</td>\n",
       "      <td>0</td>\n",
       "      <td>1</td>\n",
       "      <td>1</td>\n",
       "      <td>Intanto la partita per Via Nazionale si compli...</td>\n",
       "    </tr>\n",
       "    <tr>\n",
       "      <th>1</th>\n",
       "      <td>125485104863780865</td>\n",
       "      <td>1</td>\n",
       "      <td>0</td>\n",
       "      <td>1</td>\n",
       "      <td>0</td>\n",
       "      <td>0</td>\n",
       "      <td>1</td>\n",
       "      <td>1</td>\n",
       "      <td>False illusioni, sgradevoli realtà Mario Monti...</td>\n",
       "    </tr>\n",
       "    <tr>\n",
       "      <th>2</th>\n",
       "      <td>125513454315507712</td>\n",
       "      <td>1</td>\n",
       "      <td>0</td>\n",
       "      <td>1</td>\n",
       "      <td>0</td>\n",
       "      <td>0</td>\n",
       "      <td>1</td>\n",
       "      <td>1</td>\n",
       "      <td>False illusioni, sgradevoli realtà #editoriale...</td>\n",
       "    </tr>\n",
       "  </tbody>\n",
       "</table>\n",
       "</div>"
      ],
      "text/plain": [
       "            idtwitter  subj  opos  oneg  iro  lpos  lneg  top  \\\n",
       "0  122449983151669248     1     0     1    0     0     1    1   \n",
       "1  125485104863780865     1     0     1    0     0     1    1   \n",
       "2  125513454315507712     1     0     1    0     0     1    1   \n",
       "\n",
       "                                                text  \n",
       "0  Intanto la partita per Via Nazionale si compli...  \n",
       "1  False illusioni, sgradevoli realtà Mario Monti...  \n",
       "2  False illusioni, sgradevoli realtà #editoriale...  "
      ]
     },
     "execution_count": 13,
     "metadata": {},
     "output_type": "execute_result"
    }
   ],
   "source": [
    "df_test = pd.read_csv(test_file)\n",
    "df_train = pd.read_csv(train_file)\n",
    "df_it = pd.concat([df_train, df_test])\n",
    "df_it.head(3)"
   ]
  },
  {
   "cell_type": "markdown",
   "metadata": {},
   "source": [
    "##  Pre-processing\n",
    "\n",
    "We replace URL, MENTION, HASHTAG, and NUMBER with labels. "
   ]
  },
  {
   "cell_type": "code",
   "execution_count": 14,
   "metadata": {},
   "outputs": [],
   "source": [
    "df_it['text_flags'] = df_it['text'].apply(lambda x: p.tokenize(x))"
   ]
  },
  {
   "cell_type": "markdown",
   "metadata": {},
   "source": [
    "#### Normalize the text:\n",
    "     - Standardize case (lower)\n",
    "     - Remove punctuation"
   ]
  },
  {
   "cell_type": "code",
   "execution_count": 15,
   "metadata": {},
   "outputs": [],
   "source": [
    "df_it['text_flag_norm'] = df_it['text_flags'].apply(normalize)"
   ]
  },
  {
   "cell_type": "markdown",
   "metadata": {},
   "source": [
    "A questo punto procediamo con la seguente strategia. \n",
    "\n",
    "__Le parole delle recensioni che fanno parte del lessico vengono sostituite dai rispettivi tag che indicano la polarità della parola.__\n",
    "\n",
    "Si sceglie di operare questa sostituzione con l'obiettivo di semplificare al modello l'individuazione di parole positive e negative."
   ]
  },
  {
   "cell_type": "code",
   "execution_count": 16,
   "metadata": {},
   "outputs": [],
   "source": [
    "df_it['review_text_token'] = df_it['text_flag_norm'].apply(lambda x: x.split())\n",
    "df_it['review_text_flag'] = df_it['review_text_token'].apply(substitute_label)"
   ]
  },
  {
   "cell_type": "code",
   "execution_count": 17,
   "metadata": {},
   "outputs": [
    {
     "data": {
      "text/html": [
       "<div>\n",
       "<style scoped>\n",
       "    .dataframe tbody tr th:only-of-type {\n",
       "        vertical-align: middle;\n",
       "    }\n",
       "\n",
       "    .dataframe tbody tr th {\n",
       "        vertical-align: top;\n",
       "    }\n",
       "\n",
       "    .dataframe thead th {\n",
       "        text-align: right;\n",
       "    }\n",
       "</style>\n",
       "<table border=\"1\" class=\"dataframe\">\n",
       "  <thead>\n",
       "    <tr style=\"text-align: right;\">\n",
       "      <th></th>\n",
       "      <th>idtwitter</th>\n",
       "      <th>subj</th>\n",
       "      <th>opos</th>\n",
       "      <th>oneg</th>\n",
       "      <th>iro</th>\n",
       "      <th>lpos</th>\n",
       "      <th>lneg</th>\n",
       "      <th>top</th>\n",
       "      <th>text</th>\n",
       "      <th>text_flags</th>\n",
       "      <th>text_flag_norm</th>\n",
       "      <th>review_text_token</th>\n",
       "      <th>review_text_flag</th>\n",
       "      <th>review_text_token_flag</th>\n",
       "    </tr>\n",
       "  </thead>\n",
       "  <tbody>\n",
       "    <tr>\n",
       "      <th>0</th>\n",
       "      <td>122449983151669248</td>\n",
       "      <td>1</td>\n",
       "      <td>0</td>\n",
       "      <td>1</td>\n",
       "      <td>0</td>\n",
       "      <td>0</td>\n",
       "      <td>1</td>\n",
       "      <td>1</td>\n",
       "      <td>Intanto la partita per Via Nazionale si compli...</td>\n",
       "      <td>Intanto la partita per Via Nazionale si compli...</td>\n",
       "      <td>intanto la partita per via nazionale si compli...</td>\n",
       "      <td>[intanto, la, partita, per, via, nazionale, si...</td>\n",
       "      <td>intanto la partita $POS $NEG nazionale si comp...</td>\n",
       "      <td>[intanto, la, partita, $POS, $NEG, nazionale, ...</td>\n",
       "    </tr>\n",
       "    <tr>\n",
       "      <th>1</th>\n",
       "      <td>125485104863780865</td>\n",
       "      <td>1</td>\n",
       "      <td>0</td>\n",
       "      <td>1</td>\n",
       "      <td>0</td>\n",
       "      <td>0</td>\n",
       "      <td>1</td>\n",
       "      <td>1</td>\n",
       "      <td>False illusioni, sgradevoli realtà Mario Monti...</td>\n",
       "      <td>False illusioni, sgradevoli realtà Mario Monti...</td>\n",
       "      <td>false illusioni sgradevoli realtà mario monti ...</td>\n",
       "      <td>[false, illusioni, sgradevoli, realtà, mario, ...</td>\n",
       "      <td>false illusioni sgradevoli $POS mario monti ur...</td>\n",
       "      <td>[false, illusioni, sgradevoli, $POS, mario, mo...</td>\n",
       "    </tr>\n",
       "    <tr>\n",
       "      <th>2</th>\n",
       "      <td>125513454315507712</td>\n",
       "      <td>1</td>\n",
       "      <td>0</td>\n",
       "      <td>1</td>\n",
       "      <td>0</td>\n",
       "      <td>0</td>\n",
       "      <td>1</td>\n",
       "      <td>1</td>\n",
       "      <td>False illusioni, sgradevoli realtà #editoriale...</td>\n",
       "      <td>False illusioni, sgradevoli realtà $HASHTAG$ d...</td>\n",
       "      <td>false illusioni sgradevoli realtà hashtag di m...</td>\n",
       "      <td>[false, illusioni, sgradevoli, realtà, hashtag...</td>\n",
       "      <td>false illusioni sgradevoli $POS hashtag di mar...</td>\n",
       "      <td>[false, illusioni, sgradevoli, $POS, hashtag, ...</td>\n",
       "    </tr>\n",
       "  </tbody>\n",
       "</table>\n",
       "</div>"
      ],
      "text/plain": [
       "            idtwitter  subj  opos  oneg  iro  lpos  lneg  top  \\\n",
       "0  122449983151669248     1     0     1    0     0     1    1   \n",
       "1  125485104863780865     1     0     1    0     0     1    1   \n",
       "2  125513454315507712     1     0     1    0     0     1    1   \n",
       "\n",
       "                                                text  \\\n",
       "0  Intanto la partita per Via Nazionale si compli...   \n",
       "1  False illusioni, sgradevoli realtà Mario Monti...   \n",
       "2  False illusioni, sgradevoli realtà #editoriale...   \n",
       "\n",
       "                                          text_flags  \\\n",
       "0  Intanto la partita per Via Nazionale si compli...   \n",
       "1  False illusioni, sgradevoli realtà Mario Monti...   \n",
       "2  False illusioni, sgradevoli realtà $HASHTAG$ d...   \n",
       "\n",
       "                                      text_flag_norm  \\\n",
       "0  intanto la partita per via nazionale si compli...   \n",
       "1  false illusioni sgradevoli realtà mario monti ...   \n",
       "2  false illusioni sgradevoli realtà hashtag di m...   \n",
       "\n",
       "                                   review_text_token  \\\n",
       "0  [intanto, la, partita, per, via, nazionale, si...   \n",
       "1  [false, illusioni, sgradevoli, realtà, mario, ...   \n",
       "2  [false, illusioni, sgradevoli, realtà, hashtag...   \n",
       "\n",
       "                                    review_text_flag  \\\n",
       "0  intanto la partita $POS $NEG nazionale si comp...   \n",
       "1  false illusioni sgradevoli $POS mario monti ur...   \n",
       "2  false illusioni sgradevoli $POS hashtag di mar...   \n",
       "\n",
       "                              review_text_token_flag  \n",
       "0  [intanto, la, partita, $POS, $NEG, nazionale, ...  \n",
       "1  [false, illusioni, sgradevoli, $POS, mario, mo...  \n",
       "2  [false, illusioni, sgradevoli, $POS, hashtag, ...  "
      ]
     },
     "execution_count": 17,
     "metadata": {},
     "output_type": "execute_result"
    }
   ],
   "source": [
    "df_it['review_text_token_flag'] = df_it['review_text_flag'].apply(lambda x: x.split())\n",
    "df_it.to_csv('../data/output/twitter-sentpol/preprocessed_twitter_final.csv', sep = ';')\n",
    "df_it.head(3)"
   ]
  },
  {
   "cell_type": "markdown",
   "metadata": {},
   "source": [
    "## Vettorizzazione dei testi\n",
    "* Creazione del vocabolario che mappa i sincoli termini ai rispettivi indici"
   ]
  },
  {
   "cell_type": "code",
   "execution_count": 18,
   "metadata": {},
   "outputs": [
    {
     "name": "stdout",
     "output_type": "stream",
     "text": [
      "Number of unique words: 13835\n"
     ]
    }
   ],
   "source": [
    "total_words = set([w for list_words in df_it['review_text_token_flag'] for w in list_words])\n",
    "print ('Number of unique words: {}'.format(len(total_words)))"
   ]
  },
  {
   "cell_type": "code",
   "execution_count": 19,
   "metadata": {},
   "outputs": [],
   "source": [
    "vocabolario_index = {w:idx for idx,w in enumerate(list(total_words))}\n",
    "index_vocabolario = {idx:w for w, idx in vocabolario_index.items()}"
   ]
  },
  {
   "cell_type": "code",
   "execution_count": 20,
   "metadata": {},
   "outputs": [],
   "source": [
    "with open('../data/output/twitter-sentpol/vocabolario_twitter.json', 'w') as f:\n",
    "    json.dump(vocabolario_index, f)"
   ]
  },
  {
   "cell_type": "code",
   "execution_count": 21,
   "metadata": {},
   "outputs": [],
   "source": [
    "df_it['review_text_token_flag_index_list'] = df_it['review_text_token_flag'].apply(replace_word_index_twitter)"
   ]
  },
  {
   "cell_type": "markdown",
   "metadata": {},
   "source": [
    "#### We focus on the overall Negative/Positive polarity\n",
    "\n",
    "Prendo quelli la cui somma è pari ad 1, che indica che si tratta di tweet o positivi o negativi"
   ]
  },
  {
   "cell_type": "code",
   "execution_count": 22,
   "metadata": {},
   "outputs": [],
   "source": [
    "df_it['review_rating'] = (df_it['opos'] + df_it['oneg'])"
   ]
  },
  {
   "cell_type": "markdown",
   "metadata": {},
   "source": [
    "Keep the sum = 1"
   ]
  },
  {
   "cell_type": "code",
   "execution_count": 23,
   "metadata": {},
   "outputs": [
    {
     "data": {
      "text/plain": [
       "0    3277\n",
       "1    1927\n",
       "Name: review_rating_01, dtype: int64"
      ]
     },
     "execution_count": 23,
     "metadata": {},
     "output_type": "execute_result"
    }
   ],
   "source": [
    "df_it = df_it[df_it['review_rating'] == 1]\n",
    "df_it['review_rating_01'] = df_it['opos']\n",
    "\n",
    "df_it['review_rating_01'].value_counts()"
   ]
  },
  {
   "cell_type": "markdown",
   "metadata": {},
   "source": [
    "We observe that the classes are unbalanced."
   ]
  },
  {
   "cell_type": "markdown",
   "metadata": {},
   "source": [
    "## Create train and validation set"
   ]
  },
  {
   "cell_type": "code",
   "execution_count": 24,
   "metadata": {},
   "outputs": [],
   "source": [
    "from train_test import *"
   ]
  },
  {
   "cell_type": "code",
   "execution_count": 25,
   "metadata": {},
   "outputs": [],
   "source": [
    "df_validation, df_majority, df_minority = create_balanced_validation(df_it, 0, percentage = 5)"
   ]
  },
  {
   "cell_type": "markdown",
   "metadata": {},
   "source": [
    "## Balance the dataset"
   ]
  },
  {
   "cell_type": "code",
   "execution_count": 26,
   "metadata": {},
   "outputs": [],
   "source": [
    "from balancing import *"
   ]
  },
  {
   "cell_type": "code",
   "execution_count": 27,
   "metadata": {},
   "outputs": [
    {
     "name": "stdout",
     "output_type": "stream",
     "text": [
      "1    1791\n",
      "0    1791\n",
      "Name: review_rating_01, dtype: int64\n"
     ]
    }
   ],
   "source": [
    "df_downsampled = downsample_majority_class(df_majority, df_minority)"
   ]
  },
  {
   "cell_type": "markdown",
   "metadata": {},
   "source": [
    "## Define X and Y for training"
   ]
  },
  {
   "cell_type": "code",
   "execution_count": 28,
   "metadata": {},
   "outputs": [
    {
     "name": "stdout",
     "output_type": "stream",
     "text": [
      "max len seq 40\n",
      "max id 13834\n"
     ]
    }
   ],
   "source": [
    "x_train_pad, y_train, x_validation_pad, y_validation, max_len_seq, max_idx = train_validation_twitter(df_downsampled, df_validation)"
   ]
  },
  {
   "cell_type": "markdown",
   "metadata": {},
   "source": [
    "## Split in train and test\n",
    "\n",
    "We split in train and set using the Stratified Shuffle Split that draws sample s.t. the proportin of the classes holds both in the train and test."
   ]
  },
  {
   "cell_type": "code",
   "execution_count": 29,
   "metadata": {},
   "outputs": [],
   "source": [
    "split_train_test = StratifiedShuffleSplit(1,test_size=0.2, random_state=123456)\n",
    "\n",
    "for train, test in split_train_test.split(x_train_pad, y_train):\n",
    "    x_train_pad_split, y_train_pad_split = x_train_pad[train], y_train[train]\n",
    "    x_val_pad_split, y_val_pad_split = x_train_pad[test], y_train[test]"
   ]
  },
  {
   "cell_type": "markdown",
   "metadata": {},
   "source": [
    "## Build the model\n",
    "\n",
    "1. output_dim=20, filters=64, filters=16, kernel_size=2, strides=1, Adagrad(), batch_size=40, 5 epochs\n",
    "2. output_dim=100, filters=48, strides=1,  filters=16, strides=2\n",
    "\n",
    "1 e 2 precision e recall invertiti"
   ]
  },
  {
   "cell_type": "code",
   "execution_count": 30,
   "metadata": {},
   "outputs": [],
   "source": [
    "from evaluation_metrics import *"
   ]
  },
  {
   "cell_type": "code",
   "execution_count": 31,
   "metadata": {},
   "outputs": [],
   "source": [
    "def build_model():\n",
    "    model = Sequential()\n",
    "    model.add(Embedding(input_dim=max_idx+1, output_dim=20, input_length=max_len_seq))\n",
    "    model.add(Conv1D(filters=64, kernel_size=5, padding='same', activation='relu', strides=1))\n",
    "    model.add(MaxPooling1D(2))\n",
    "    model.add(Conv1D(filters=16, kernel_size=2, padding='same', activation='relu', strides=1))\n",
    "    model.add(GlobalMaxPool1D())\n",
    "    model.add(Dense(50, activation='relu'))\n",
    "    model.add(Dropout(0.5))\n",
    "    model.add(Dense(1, activation='sigmoid'))\n",
    "    model.compile(loss='binary_crossentropy', optimizer=Adagrad(), metrics=['accuracy', precision, recall, fbeta_score])\n",
    "    \n",
    "    return model"
   ]
  },
  {
   "cell_type": "code",
   "execution_count": 32,
   "metadata": {},
   "outputs": [
    {
     "name": "stdout",
     "output_type": "stream",
     "text": [
      "WARNING:tensorflow:From /anaconda3/lib/python3.6/site-packages/tensorflow/python/util/deprecation.py:497: calling conv1d (from tensorflow.python.ops.nn_ops) with data_format=NHWC is deprecated and will be removed in a future version.\n",
      "Instructions for updating:\n",
      "`NHWC` for data_format is deprecated, use `NWC` instead\n",
      "_________________________________________________________________\n",
      "Layer (type)                 Output Shape              Param #   \n",
      "=================================================================\n",
      "embedding_1 (Embedding)      (None, 40, 20)            276700    \n",
      "_________________________________________________________________\n",
      "conv1d_1 (Conv1D)            (None, 40, 64)            6464      \n",
      "_________________________________________________________________\n",
      "max_pooling1d_1 (MaxPooling1 (None, 20, 64)            0         \n",
      "_________________________________________________________________\n",
      "conv1d_2 (Conv1D)            (None, 20, 16)            2064      \n",
      "_________________________________________________________________\n",
      "global_max_pooling1d_1 (Glob (None, 16)                0         \n",
      "_________________________________________________________________\n",
      "dense_1 (Dense)              (None, 50)                850       \n",
      "_________________________________________________________________\n",
      "dropout_1 (Dropout)          (None, 50)                0         \n",
      "_________________________________________________________________\n",
      "dense_2 (Dense)              (None, 1)                 51        \n",
      "=================================================================\n",
      "Total params: 286,129\n",
      "Trainable params: 286,129\n",
      "Non-trainable params: 0\n",
      "_________________________________________________________________\n"
     ]
    }
   ],
   "source": [
    "model = build_model()\n",
    "model.summary()"
   ]
  },
  {
   "cell_type": "code",
   "execution_count": 33,
   "metadata": {},
   "outputs": [
    {
     "name": "stdout",
     "output_type": "stream",
     "text": [
      "Train on 2865 samples, validate on 717 samples\n",
      "Epoch 1/5\n",
      "2865/2865 [==============================] - 2s 650us/step - loss: 0.6699 - acc: 0.5808 - precision: 0.6139 - recall: 0.4915 - fbeta_score: 0.5053 - val_loss: 0.6186 - val_acc: 0.6653 - val_precision: 0.6791 - val_recall: 0.6342 - val_fbeta_score: 0.6538\n",
      "Epoch 2/5\n",
      "2865/2865 [==============================] - 1s 311us/step - loss: 0.5355 - acc: 0.7452 - precision: 0.7561 - recall: 0.7307 - fbeta_score: 0.7351 - val_loss: 0.5776 - val_acc: 0.6904 - val_precision: 0.6983 - val_recall: 0.6774 - val_fbeta_score: 0.6854\n",
      "Epoch 3/5\n",
      "2865/2865 [==============================] - 1s 248us/step - loss: 0.3978 - acc: 0.8339 - precision: 0.8310 - recall: 0.8346 - fbeta_score: 0.8299 - val_loss: 0.5916 - val_acc: 0.7127 - val_precision: 0.7469 - val_recall: 0.6578 - val_fbeta_score: 0.6944\n",
      "Epoch 4/5\n",
      "2865/2865 [==============================] - 1s 229us/step - loss: 0.2688 - acc: 0.9044 - precision: 0.8983 - recall: 0.9135 - fbeta_score: 0.9033 - val_loss: 0.6631 - val_acc: 0.7029 - val_precision: 0.6998 - val_recall: 0.7227 - val_fbeta_score: 0.7057\n",
      "Epoch 5/5\n",
      "2865/2865 [==============================] - 1s 234us/step - loss: 0.1799 - acc: 0.9414 - precision: 0.9342 - recall: 0.9522 - fbeta_score: 0.9412 - val_loss: 0.7397 - val_acc: 0.7183 - val_precision: 0.7580 - val_recall: 0.6540 - val_fbeta_score: 0.6954\n"
     ]
    }
   ],
   "source": [
    "history = model.fit(x_train_pad_split, y_train_pad_split, validation_data=(x_val_pad_split, y_val_pad_split),\n",
    "                    batch_size=40, validation_split=0.2, epochs=5)"
   ]
  },
  {
   "cell_type": "code",
   "execution_count": 34,
   "metadata": {},
   "outputs": [
    {
     "data": {
      "text/plain": [
       "<matplotlib.legend.Legend at 0x11bbe9c50>"
      ]
     },
     "execution_count": 34,
     "metadata": {},
     "output_type": "execute_result"
    },
    {
     "data": {
      "image/png": "[encoded data removed]",
      "text/plain": [
       "<matplotlib.figure.Figure at 0x11bc10470>"
      ]
     },
     "metadata": {},
     "output_type": "display_data"
    }
   ],
   "source": [
    "plt.plot(history.history['acc'])\n",
    "plt.plot(history.history['val_acc'])\n",
    "plt.plot(history.history['precision'])\n",
    "plt.plot(history.history['val_precision'])\n",
    "plt.plot(history.history['fbeta_score'])\n",
    "plt.plot(history.history['val_fbeta_score'])\n",
    "plt.legend(['acc_train', 'acc_test', 'prec_train', 'prec_test', 'fbeta_score', 'val_fbeta_score'], loc='lower right')"
   ]
  },
  {
   "cell_type": "markdown",
   "metadata": {},
   "source": [
    "# Allena il modello su tutti i dati"
   ]
  },
  {
   "cell_type": "code",
   "execution_count": 49,
   "metadata": {},
   "outputs": [],
   "source": [
    "x_train_tot = pd.concat([pd.DataFrame(x_train_pad_split), pd.DataFrame(x_val_pad_split)])\n",
    "y_train_tot = pd.concat([pd.DataFrame(y_train_pad_split), pd.DataFrame(y_val_pad_split)])"
   ]
  },
  {
   "cell_type": "code",
   "execution_count": 59,
   "metadata": {},
   "outputs": [
    {
     "name": "stdout",
     "output_type": "stream",
     "text": [
      "_________________________________________________________________\n",
      "Layer (type)                 Output Shape              Param #   \n",
      "=================================================================\n",
      "embedding_6 (Embedding)      (None, 40, 20)            276700    \n",
      "_________________________________________________________________\n",
      "conv1d_11 (Conv1D)           (None, 40, 64)            6464      \n",
      "_________________________________________________________________\n",
      "max_pooling1d_6 (MaxPooling1 (None, 20, 64)            0         \n",
      "_________________________________________________________________\n",
      "conv1d_12 (Conv1D)           (None, 20, 16)            2064      \n",
      "_________________________________________________________________\n",
      "global_max_pooling1d_6 (Glob (None, 16)                0         \n",
      "_________________________________________________________________\n",
      "dense_11 (Dense)             (None, 50)                850       \n",
      "_________________________________________________________________\n",
      "dropout_6 (Dropout)          (None, 50)                0         \n",
      "_________________________________________________________________\n",
      "dense_12 (Dense)             (None, 1)                 51        \n",
      "=================================================================\n",
      "Total params: 286,129\n",
      "Trainable params: 286,129\n",
      "Non-trainable params: 0\n",
      "_________________________________________________________________\n"
     ]
    }
   ],
   "source": [
    "model = build_model()\n",
    "model.summary()"
   ]
  },
  {
   "cell_type": "code",
   "execution_count": 60,
   "metadata": {},
   "outputs": [
    {
     "name": "stdout",
     "output_type": "stream",
     "text": [
      "Train on 2865 samples, validate on 717 samples\n",
      "Epoch 1/8\n",
      "2865/2865 [==============================] - 2s 547us/step - loss: 0.6673 - acc: 0.5916 - precision: 0.5518 - recall: 0.3795 - fbeta_score: 0.4128 - val_loss: 0.6215 - val_acc: 0.6402 - val_precision: 0.6260 - val_recall: 0.7120 - val_fbeta_score: 0.6631\n",
      "Epoch 2/8\n",
      "2865/2865 [==============================] - 1s 248us/step - loss: 0.5467 - acc: 0.7330 - precision: 0.7522 - recall: 0.7149 - fbeta_score: 0.7213 - val_loss: 0.5827 - val_acc: 0.6848 - val_precision: 0.7005 - val_recall: 0.6452 - val_fbeta_score: 0.6685\n",
      "Epoch 3/8\n",
      "2865/2865 [==============================] - 1s 230us/step - loss: 0.3983 - acc: 0.8325 - precision: 0.8346 - recall: 0.8303 - fbeta_score: 0.8272 - val_loss: 0.6054 - val_acc: 0.6778 - val_precision: 0.6893 - val_recall: 0.6597 - val_fbeta_score: 0.6710\n",
      "Epoch 4/8\n",
      "2865/2865 [==============================] - 1s 235us/step - loss: 0.2767 - acc: 0.8967 - precision: 0.8873 - recall: 0.9062 - fbeta_score: 0.8946 - val_loss: 0.6857 - val_acc: 0.6736 - val_precision: 0.6515 - val_recall: 0.7509 - val_fbeta_score: 0.6954\n",
      "Epoch 5/8\n",
      "2865/2865 [==============================] - 1s 235us/step - loss: 0.1932 - acc: 0.9361 - precision: 0.9267 - recall: 0.9495 - fbeta_score: 0.9363 - val_loss: 0.7495 - val_acc: 0.6876 - val_precision: 0.6867 - val_recall: 0.7063 - val_fbeta_score: 0.6913\n",
      "Epoch 6/8\n",
      "2865/2865 [==============================] - 1s 241us/step - loss: 0.1388 - acc: 0.9553 - precision: 0.9443 - recall: 0.9670 - fbeta_score: 0.9542 - val_loss: 0.8305 - val_acc: 0.6820 - val_precision: 0.6686 - val_recall: 0.7330 - val_fbeta_score: 0.6951\n",
      "Epoch 7/8\n",
      "2865/2865 [==============================] - 1s 234us/step - loss: 0.1072 - acc: 0.9682 - precision: 0.9609 - recall: 0.9778 - fbeta_score: 0.9686 - val_loss: 0.8695 - val_acc: 0.6904 - val_precision: 0.7082 - val_recall: 0.6664 - val_fbeta_score: 0.6812\n",
      "Epoch 8/8\n",
      "2865/2865 [==============================] - 1s 236us/step - loss: 0.0787 - acc: 0.9798 - precision: 0.9737 - recall: 0.9857 - fbeta_score: 0.9790 - val_loss: 0.9685 - val_acc: 0.6806 - val_precision: 0.6751 - val_recall: 0.7124 - val_fbeta_score: 0.6897\n"
     ]
    }
   ],
   "source": [
    "history = model.fit(x_train_pad_split, y_train_pad_split, validation_data=(x_val_pad_split, y_val_pad_split),\n",
    "                    batch_size=40, validation_split=0.2, epochs=8)"
   ]
  },
  {
   "cell_type": "code",
   "execution_count": 61,
   "metadata": {},
   "outputs": [
    {
     "name": "stdout",
     "output_type": "stream",
     "text": [
      "Saved model to disk\n"
     ]
    }
   ],
   "source": [
    "# serialize model to JSON\n",
    "model_json = model.to_json()\n",
    "with open(\"model.json\", \"w\") as json_file:\n",
    "    json_file.write(model_json)\n",
    "# serialize weights to HDF5\n",
    "model.save_weights(\"model.h5\")\n",
    "print(\"Saved model to disk\")\n",
    " \n",
    "# later...\n",
    " \n"
   ]
  },
  {
   "cell_type": "code",
   "execution_count": 36,
   "metadata": {},
   "outputs": [],
   "source": [
    "prediction = model.predict_classes(x_validation_pad)"
   ]
  },
  {
   "cell_type": "code",
   "execution_count": 37,
   "metadata": {},
   "outputs": [],
   "source": [
    "from sklearn import metrics"
   ]
  },
  {
   "cell_type": "markdown",
   "metadata": {},
   "source": [
    "## Evaluate the model on the validation set (del modello trainato non su tutti i dati)\n",
    "\n",
    "* We compute the class predictions\n",
    "* We see the evaluation using precision, recall, f1 and accuracy"
   ]
  },
  {
   "cell_type": "code",
   "execution_count": 38,
   "metadata": {},
   "outputs": [],
   "source": [
    "prediction = model.predict_classes(x_validation_pad)"
   ]
  },
  {
   "cell_type": "code",
   "execution_count": 39,
   "metadata": {},
   "outputs": [
    {
     "name": "stdout",
     "output_type": "stream",
     "text": [
      "Modelevaluation: \n",
      "Accuracy: 0.6923076923076923 \n",
      "Precision: 0.6461538461538462 \n",
      "Recall: 0.711864406779661 \n",
      "F1: 0.6774193548387097\n"
     ]
    }
   ],
   "source": [
    "evaluate_model(model, x_validation_pad, y_validation)"
   ]
  },
  {
   "cell_type": "markdown",
   "metadata": {},
   "source": [
    "These metrics are computed on a validation set that has been randomly created (explanation throughout the pipeline). Thus, if the notebook will be executed again those can vary.\n",
    "\n",
    "__Il modello non risulta essere particolarmente stabile poichè la quantità di dati che abbiamo è molto ridotta. Sarebbe ottimo riuscire ad ottenere i tweet del 2014 di cui abbiamo sentiment e indici ma non testo, Pertanto dovremo scrivere un mini crawler.__\n",
    "\n"
   ]
  }
 ],
 "metadata": {
  "kernelspec": {
   "display_name": "Python 3",
   "language": "python",
   "name": "python3"
  }
 },
 "nbformat": 4,
 "nbformat_minor": 2
}
