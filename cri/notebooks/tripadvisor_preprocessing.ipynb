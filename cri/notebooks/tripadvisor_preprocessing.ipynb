{
 "cells": [
  {
   "cell_type": "markdown",
   "metadata": {},
   "source": [
    "# Pre-processing delle recensioni di TripAdvisor per Roma"
   ]
  },
  {
   "cell_type": "code",
   "execution_count": 1,
   "metadata": {},
   "outputs": [],
   "source": [
    "import sys\n",
    "sys.path.append('../src')\n",
    "from tripadvisor_preprocessing import *\n",
    "from preprocessing import *\n",
    "import pandas as pd\n",
    "import numpy as np\n",
    "import json\n",
    "import matplotlib.pyplot as plt\n",
    "%matplotlib inline\n",
    "import string"
   ]
  },
  {
   "cell_type": "code",
   "execution_count": 2,
   "metadata": {},
   "outputs": [
    {
     "name": "stdout",
     "output_type": "stream",
     "text": [
      "Numero di recensioni totali in italiano:  81901 \n",
      "Numero di recensioni totali: 223089\n"
     ]
    }
   ],
   "source": [
    "df_it = keep_italian_reviews()"
   ]
  },
  {
   "cell_type": "markdown",
   "metadata": {},
   "source": [
    "### Definizione delle label di output"
   ]
  },
  {
   "cell_type": "code",
   "execution_count": 3,
   "metadata": {},
   "outputs": [],
   "source": [
    "# Map rating\n",
    "df_it['review_rating'] = df_it['review_rating'].apply(label)"
   ]
  },
  {
   "cell_type": "markdown",
   "metadata": {},
   "source": [
    "Si osserva che il datates è sbilancianto in quanto l'84% delle recensioni è positiva. Al contrario, risultano equilibrate le recensioni neutre e negative."
   ]
  },
  {
   "cell_type": "code",
   "execution_count": 4,
   "metadata": {},
   "outputs": [
    {
     "data": {
      "text/plain": [
       " 1    84.439750\n",
       "-1     8.097581\n",
       " 0     7.462668\n",
       "Name: review_rating, dtype: float64"
      ]
     },
     "execution_count": 4,
     "metadata": {},
     "output_type": "execute_result"
    }
   ],
   "source": [
    "df_it['review_rating'].value_counts()/len(df_it)*100"
   ]
  },
  {
   "cell_type": "markdown",
   "metadata": {},
   "source": [
    "### Normalizzazione del test della review\n",
    "\n",
    "We remove the punctuation and lower case."
   ]
  },
  {
   "cell_type": "code",
   "execution_count": 5,
   "metadata": {},
   "outputs": [],
   "source": [
    "df_it['review_text'] = df_it['review_text'].apply(normalize)\n",
    "df_it['review_title'] = df_it['review_title'].apply(normalize)"
   ]
  },
  {
   "cell_type": "markdown",
   "metadata": {},
   "source": [
    "## Importiamo il vocabolario con la polarity delle parole "
   ]
  },
  {
   "cell_type": "markdown",
   "metadata": {},
   "source": [
    "Quindi, individuiamo le singole parole del lessico e procediamo con la seguente strategia."
   ]
  },
  {
   "cell_type": "markdown",
   "metadata": {},
   "source": [
    "__Le parole delle recensioni che fanno parte del lessico vengono sostituite dai rispettivi tag che indicano la polarità della parola.__\n",
    "\n",
    "Si sceglie di operare questa sostituzione con l'obiettivo di semplificare al modello l'individuazione di parole positive e negative."
   ]
  },
  {
   "cell_type": "code",
   "execution_count": 6,
   "metadata": {},
   "outputs": [],
   "source": [
    "# We do the substitution both for the titles and the reviews\n",
    "df_it['review_text_token'] = df_it['review_text'].apply(lambda x: x.split())\n",
    "df_it['review_text_flag'] = df_it['review_text_token'].apply(substitute_label)"
   ]
  },
  {
   "cell_type": "markdown",
   "metadata": {},
   "source": [
    "#### Ripeto le stesse operazioni sui titoli"
   ]
  },
  {
   "cell_type": "code",
   "execution_count": 7,
   "metadata": {},
   "outputs": [],
   "source": [
    "df_it['review_title_token'] = df_it['review_title'].apply(lambda x: x.split())\n",
    "df_it['review_title_flag'] = df_it['review_title_token'].apply(substitute_label)"
   ]
  },
  {
   "cell_type": "markdown",
   "metadata": {},
   "source": [
    "#### Tokenize i titoli e le review"
   ]
  },
  {
   "cell_type": "code",
   "execution_count": 8,
   "metadata": {},
   "outputs": [],
   "source": [
    "df_it['review_title_token_flag'] = df_it['review_title_flag'].apply(lambda x: x.split())\n",
    "df_it['review_text_token_flag'] = df_it['review_text_flag'].apply(lambda x: x.split())"
   ]
  },
  {
   "cell_type": "code",
   "execution_count": 9,
   "metadata": {},
   "outputs": [],
   "source": [
    "df_it.to_csv('../data/output/tripadvisor/preprocessed_tripadvisor_final.csv', sep = ';')"
   ]
  },
  {
   "cell_type": "markdown",
   "metadata": {},
   "source": [
    "## Vettorizzazione dei testi\n",
    "* Creazione del vocabolario che mappa i sincoli termini ai rispettivi indici"
   ]
  },
  {
   "cell_type": "code",
   "execution_count": 10,
   "metadata": {},
   "outputs": [],
   "source": [
    "total_words_title = set([w for list_words in df_it['review_title_token_flag'] for w in list_words])\n",
    "total_words_text = set([w for list_words in df_it['review_text_token_flag'] for w in list_words])"
   ]
  },
  {
   "cell_type": "code",
   "execution_count": 11,
   "metadata": {},
   "outputs": [
    {
     "name": "stdout",
     "output_type": "stream",
     "text": [
      "Number of unique words: 60842\n"
     ]
    }
   ],
   "source": [
    "total_words = total_words_title.union(total_words_text)\n",
    "print ('Number of unique words: {}'.format(len(total_words)))"
   ]
  },
  {
   "cell_type": "code",
   "execution_count": 12,
   "metadata": {},
   "outputs": [],
   "source": [
    "vocabolario_index = {w:idx for idx,w in enumerate(list(total_words))}\n",
    "index_vocabolario = {idx:w for w, idx in vocabolario_index.items()}"
   ]
  },
  {
   "cell_type": "markdown",
   "metadata": {},
   "source": [
    "* Salvataggio del vocabolario {parola:indice}"
   ]
  },
  {
   "cell_type": "code",
   "execution_count": 13,
   "metadata": {},
   "outputs": [],
   "source": [
    "with open('../data/output/tripadvisor/vocabolario.json', 'w') as f:\n",
    "    json.dump(vocabolario_index, f)"
   ]
  },
  {
   "cell_type": "markdown",
   "metadata": {},
   "source": [
    "* Map le recensioni con il vocabolario."
   ]
  },
  {
   "cell_type": "code",
   "execution_count": 14,
   "metadata": {},
   "outputs": [],
   "source": [
    "df_it['review_text_token_flag_index'] = df_it['review_text_token_flag'].apply(replace_word_index_tripadvisor)"
   ]
  },
  {
   "cell_type": "markdown",
   "metadata": {},
   "source": [
    "* Salva dataset con sequenze"
   ]
  },
  {
   "cell_type": "markdown",
   "metadata": {},
   "source": [
    "__!!!!Tenere solo le review positive o negative!!!!__"
   ]
  },
  {
   "cell_type": "code",
   "execution_count": 15,
   "metadata": {},
   "outputs": [],
   "source": [
    "to_save = df_it[(df_it['review_rating'] == 1) | (df_it['review_rating'] == -1)][['review_rating','review_text_token_flag_index']]"
   ]
  },
  {
   "cell_type": "code",
   "execution_count": 16,
   "metadata": {},
   "outputs": [
    {
     "data": {
      "text/html": [
       "<div>\n",
       "<style scoped>\n",
       "    .dataframe tbody tr th:only-of-type {\n",
       "        vertical-align: middle;\n",
       "    }\n",
       "\n",
       "    .dataframe tbody tr th {\n",
       "        vertical-align: top;\n",
       "    }\n",
       "\n",
       "    .dataframe thead th {\n",
       "        text-align: right;\n",
       "    }\n",
       "</style>\n",
       "<table border=\"1\" class=\"dataframe\">\n",
       "  <thead>\n",
       "    <tr style=\"text-align: right;\">\n",
       "      <th></th>\n",
       "      <th>review_rating</th>\n",
       "      <th>review_text_token_flag_index</th>\n",
       "    </tr>\n",
       "  </thead>\n",
       "  <tbody>\n",
       "    <tr>\n",
       "      <th>0</th>\n",
       "      <td>1</td>\n",
       "      <td>[18128, 51904, 8173, 45643, 18968, 8173, 8173,...</td>\n",
       "    </tr>\n",
       "    <tr>\n",
       "      <th>3</th>\n",
       "      <td>1</td>\n",
       "      <td>[8173, 21264, 18968, 8173, 46412, 35261, 8173,...</td>\n",
       "    </tr>\n",
       "    <tr>\n",
       "      <th>5</th>\n",
       "      <td>1</td>\n",
       "      <td>[18128, 51904, 8173, 45643, 18968, 8173, 8173,...</td>\n",
       "    </tr>\n",
       "    <tr>\n",
       "      <th>8</th>\n",
       "      <td>1</td>\n",
       "      <td>[8173, 21264, 18968, 8173, 46412, 35261, 8173,...</td>\n",
       "    </tr>\n",
       "    <tr>\n",
       "      <th>10</th>\n",
       "      <td>1</td>\n",
       "      <td>[2030, 16209, 11868, 35261, 55339, 26963, 5001...</td>\n",
       "    </tr>\n",
       "  </tbody>\n",
       "</table>\n",
       "</div>"
      ],
      "text/plain": [
       "    review_rating                       review_text_token_flag_index\n",
       "0               1  [18128, 51904, 8173, 45643, 18968, 8173, 8173,...\n",
       "3               1  [8173, 21264, 18968, 8173, 46412, 35261, 8173,...\n",
       "5               1  [18128, 51904, 8173, 45643, 18968, 8173, 8173,...\n",
       "8               1  [8173, 21264, 18968, 8173, 46412, 35261, 8173,...\n",
       "10              1  [2030, 16209, 11868, 35261, 55339, 26963, 5001..."
      ]
     },
     "execution_count": 16,
     "metadata": {},
     "output_type": "execute_result"
    }
   ],
   "source": [
    "to_save.head()"
   ]
  },
  {
   "cell_type": "code",
   "execution_count": 17,
   "metadata": {},
   "outputs": [],
   "source": [
    "to_save.to_csv('../data/output/tripadvisor/dataset_sequence.csv', sep = ';')"
   ]
  }
 ],
 "metadata": {
  "kernelspec": {
   "display_name": "Python 3",
   "language": "python",
   "name": "python3"
  },
  "language_info": {
   "codemirror_mode": {
    "name": "ipython",
    "version": 3
   },
   "file_extension": ".py",
   "mimetype": "text/x-python",
   "name": "python",
   "nbconvert_exporter": "python",
   "pygments_lexer": "ipython3",
   "version": "3.6.4"
  }
 },
 "nbformat": 4,
 "nbformat_minor": 2
}
