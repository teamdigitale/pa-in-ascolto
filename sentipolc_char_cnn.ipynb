{
 "cells": [
  {
   "cell_type": "code",
   "execution_count": 1,
   "metadata": {},
   "outputs": [
    {
     "name": "stderr",
     "output_type": "stream",
     "text": [
      "/anaconda3/lib/python3.6/site-packages/h5py/__init__.py:36: FutureWarning: Conversion of the second argument of issubdtype from `float` to `np.floating` is deprecated. In future, it will be treated as `np.float64 == np.dtype(float).type`.\n",
      "  from ._conv import register_converters as _register_converters\n",
      "Using TensorFlow backend.\n"
     ]
    }
   ],
   "source": [
    "import numpy as np\n",
    "\n",
    "import json\n",
    "from keras.preprocessing import sequence\n",
    "from keras.utils import to_categorical\n",
    "from keras.models import *\n",
    "from keras.layers import *\n",
    "from keras.callbacks import *\n",
    "from keras.optimizers import *\n",
    "import keras.backend as K"
   ]
  },
  {
   "cell_type": "code",
   "execution_count": 2,
   "metadata": {},
   "outputs": [],
   "source": [
    "data = np.load('data/sentipolc_char_seq.npz')"
   ]
  },
  {
   "cell_type": "code",
   "execution_count": 2,
   "metadata": {},
   "outputs": [],
   "source": [
    "with open('data/sentipolc_char_index.json', 'r') as f:\n",
    "    word_index = json.load(f)"
   ]
  },
  {
   "cell_type": "code",
   "execution_count": 3,
   "metadata": {},
   "outputs": [],
   "source": [
    "with open('data/chars.tsv', 'w') as f:\n",
    "    for w,_ in word_index.items():\n",
    "        f.write('{}\\n'.format(w))"
   ]
  },
  {
   "cell_type": "code",
   "execution_count": 4,
   "metadata": {},
   "outputs": [],
   "source": [
    "words = [w for w,_ in word_index.items()]"
   ]
  },
  {
   "cell_type": "code",
   "execution_count": 5,
   "metadata": {},
   "outputs": [],
   "source": [
    "data = np.load('data/sentipolc_char_seq.npz')\n",
    "\n",
    "x_train = data['x_train']\n",
    "y_train = data['y_train']\n",
    "\n",
    "x_test = data['x_test']\n",
    "y_test = data['y_test']"
   ]
  },
  {
   "cell_type": "code",
   "execution_count": 6,
   "metadata": {},
   "outputs": [
    {
     "data": {
      "text/plain": [
       "0    5100\n",
       "1    2310\n",
       "dtype: int64"
      ]
     },
     "execution_count": 6,
     "metadata": {},
     "output_type": "execute_result"
    }
   ],
   "source": [
    "import pandas as pd\n",
    "pd.Series(y_train).value_counts()"
   ]
  },
  {
   "cell_type": "markdown",
   "metadata": {},
   "source": [
    "Check the max length of the text"
   ]
  },
  {
   "cell_type": "code",
   "execution_count": 7,
   "metadata": {
    "scrolled": true
   },
   "outputs": [
    {
     "name": "stdout",
     "output_type": "stream",
     "text": [
      "max len seq 238\n",
      "max id 137\n"
     ]
    }
   ],
   "source": [
    "max_len_seq = max([len(x) for x in x_train])\n",
    "print('max len seq {}'.format(max_len_seq))\n",
    "max_idx = max(word_index.values())\n",
    "print('max id {}'.format(max_idx))"
   ]
  },
  {
   "cell_type": "code",
   "execution_count": 8,
   "metadata": {},
   "outputs": [],
   "source": [
    "x_train_pad = sequence.pad_sequences(x_train, maxlen=max_len_seq, padding='post')\n",
    "x_test_pad = sequence.pad_sequences(x_test, maxlen=max_len_seq, padding='post')"
   ]
  },
  {
   "cell_type": "code",
   "execution_count": 9,
   "metadata": {},
   "outputs": [
    {
     "data": {
      "text/plain": [
       "(7410, 238)"
      ]
     },
     "execution_count": 9,
     "metadata": {},
     "output_type": "execute_result"
    }
   ],
   "source": [
    "x_train_pad.shape"
   ]
  },
  {
   "cell_type": "markdown",
   "metadata": {},
   "source": [
    "# Define metrics to use"
   ]
  },
  {
   "cell_type": "code",
   "execution_count": 10,
   "metadata": {},
   "outputs": [],
   "source": [
    "def precision(y_true, y_pred):\n",
    "    \"\"\"Precision metric.\n",
    "\n",
    "    Only computes a batch-wise average of precision.\n",
    "     Computes the precision, a metric for multi-label classification of\n",
    "     how many selected items are relevant.\n",
    "      \"\"\"\n",
    "    true_positives = K.sum(K.round(K.clip(y_true * y_pred, 0, 1)))\t\t\n",
    "    predicted_positives = K.sum(K.round(K.clip(y_pred, 0, 1)))\t\t\n",
    "    precision = true_positives / (predicted_positives + K.epsilon())\t\t\n",
    "    return precision"
   ]
  },
  {
   "cell_type": "code",
   "execution_count": 11,
   "metadata": {},
   "outputs": [],
   "source": [
    "def recall(y_true, y_pred):\n",
    "    \"\"\"Recall metric.\n",
    " \n",
    "    Only computes a batch-wise average of recall.\n",
    "    Computes the recall, a metric for multi-label classification of\n",
    "    how many relevant items are selected.\n",
    "    \"\"\"\n",
    "    true_positives = K.sum(K.round(K.clip(y_true * y_pred, 0, 1)))\n",
    "    possible_positives = K.sum(K.round(K.clip(y_true, 0, 1)))\n",
    "    recall = true_positives / (possible_positives + K.epsilon())\n",
    "    return recall"
   ]
  },
  {
   "cell_type": "code",
   "execution_count": 12,
   "metadata": {},
   "outputs": [],
   "source": [
    "from sklearn.model_selection import StratifiedShuffleSplit\n",
    "\n",
    "split_train_test = StratifiedShuffleSplit(1,test_size=0.2, random_state=123456)\n",
    "\n",
    "for train, test in split_train_test.split(x_train_pad, y_train):\n",
    "    x_train_pad_split, y_train_pad_split = x_train_pad[train], y_train[train]\n",
    "    x_val_pad_split, y_val_pad_split = x_train_pad[test], y_train[test]"
   ]
  },
  {
   "cell_type": "code",
   "execution_count": 13,
   "metadata": {
    "scrolled": true
   },
   "outputs": [
    {
     "name": "stdout",
     "output_type": "stream",
     "text": [
      "WARNING:tensorflow:From /anaconda3/lib/python3.6/site-packages/tensorflow/contrib/learn/python/learn/datasets/base.py:198: retry (from tensorflow.contrib.learn.python.learn.datasets.base) is deprecated and will be removed in a future version.\n",
      "Instructions for updating:\n",
      "Use the retry module or similar alternatives.\n"
     ]
    }
   ],
   "source": [
    "callbacks = [\n",
    "    TensorBoard(histogram_freq=1, batch_size=128, embeddings_freq=1),\n",
    "    ReduceLROnPlateau(patience=2, verbose=1)\n",
    "]"
   ]
  },
  {
   "cell_type": "code",
   "execution_count": 14,
   "metadata": {
    "scrolled": false
   },
   "outputs": [],
   "source": [
    "def build_model():\n",
    "    model = Sequential()\n",
    "    model.add(Embedding(input_dim=max_idx+1, output_dim=100, input_length=max_len_seq))\n",
    "    model.add(Conv1D(filters=64, kernel_size=5, padding='same', activation='relu', strides=1))\n",
    "    model.add(MaxPooling1D(2))\n",
    "    model.add(Conv1D(filters=32, kernel_size=5, padding='same', activation='relu', strides=1))\n",
    "    model.add(GlobalMaxPool1D())\n",
    "    model.add(Dense(50, activation='relu'))\n",
    "    model.add(Dropout(0.5))\n",
    "    model.add(Dense(1, activation='sigmoid'))\n",
    "\n",
    "    model.compile(loss='binary_crossentropy', optimizer=Adam(), metrics=['accuracy', recall, precision])\n",
    "    \n",
    "    return model"
   ]
  },
  {
   "cell_type": "code",
   "execution_count": 15,
   "metadata": {},
   "outputs": [
    {
     "name": "stdout",
     "output_type": "stream",
     "text": [
      "WARNING:tensorflow:From /anaconda3/lib/python3.6/site-packages/tensorflow/python/util/deprecation.py:497: calling conv1d (from tensorflow.python.ops.nn_ops) with data_format=NHWC is deprecated and will be removed in a future version.\n",
      "Instructions for updating:\n",
      "`NHWC` for data_format is deprecated, use `NWC` instead\n",
      "_________________________________________________________________\n",
      "Layer (type)                 Output Shape              Param #   \n",
      "=================================================================\n",
      "embedding_1 (Embedding)      (None, 238, 100)          13800     \n",
      "_________________________________________________________________\n",
      "conv1d_1 (Conv1D)            (None, 238, 64)           32064     \n",
      "_________________________________________________________________\n",
      "max_pooling1d_1 (MaxPooling1 (None, 119, 64)           0         \n",
      "_________________________________________________________________\n",
      "conv1d_2 (Conv1D)            (None, 119, 32)           10272     \n",
      "_________________________________________________________________\n",
      "global_max_pooling1d_1 (Glob (None, 32)                0         \n",
      "_________________________________________________________________\n",
      "dense_1 (Dense)              (None, 50)                1650      \n",
      "_________________________________________________________________\n",
      "dropout_1 (Dropout)          (None, 50)                0         \n",
      "_________________________________________________________________\n",
      "dense_2 (Dense)              (None, 1)                 51        \n",
      "=================================================================\n",
      "Total params: 57,837\n",
      "Trainable params: 57,837\n",
      "Non-trainable params: 0\n",
      "_________________________________________________________________\n"
     ]
    }
   ],
   "source": [
    "model = build_model()\n",
    "model.summary()"
   ]
  },
  {
   "cell_type": "code",
   "execution_count": 16,
   "metadata": {
    "scrolled": false
   },
   "outputs": [
    {
     "name": "stdout",
     "output_type": "stream",
     "text": [
      "Train on 5928 samples, validate on 1482 samples\n",
      "Epoch 1/10\n",
      "5928/5928 [==============================] - 10s 2ms/step - loss: 0.6343 - acc: 0.6834 - recall: 0.0173 - precision: 0.0571 - val_loss: 0.6130 - val_acc: 0.6883 - val_recall: 0.0000e+00 - val_precision: 0.0000e+00\n",
      "Epoch 2/10\n",
      "5928/5928 [==============================] - 11s 2ms/step - loss: 0.6111 - acc: 0.6910 - recall: 0.0209 - precision: 0.3388 - val_loss: 0.5952 - val_acc: 0.6997 - val_recall: 0.0722 - val_precision: 0.6693\n",
      "Epoch 3/10\n",
      "5928/5928 [==============================] - 11s 2ms/step - loss: 0.5881 - acc: 0.7080 - recall: 0.1205 - precision: 0.6933 - val_loss: 0.5768 - val_acc: 0.7085 - val_recall: 0.1542 - val_precision: 0.6372\n",
      "Epoch 4/10\n",
      "5928/5928 [==============================] - 11s 2ms/step - loss: 0.5683 - acc: 0.7198 - recall: 0.2111 - precision: 0.6658 - val_loss: 0.5691 - val_acc: 0.7240 - val_recall: 0.2641 - val_precision: 0.6365\n",
      "Epoch 5/10\n",
      "5928/5928 [==============================] - 10s 2ms/step - loss: 0.5535 - acc: 0.7311 - recall: 0.2815 - precision: 0.6809 - val_loss: 0.5645 - val_acc: 0.7274 - val_recall: 0.2727 - val_precision: 0.6563\n",
      "Epoch 6/10\n",
      "5928/5928 [==============================] - 9s 2ms/step - loss: 0.5410 - acc: 0.7389 - recall: 0.3140 - precision: 0.6880 - val_loss: 0.5629 - val_acc: 0.7267 - val_recall: 0.2555 - val_precision: 0.6667\n",
      "Epoch 7/10\n",
      "5928/5928 [==============================] - 11s 2ms/step - loss: 0.5220 - acc: 0.7537 - recall: 0.3566 - precision: 0.7223 - val_loss: 0.5626 - val_acc: 0.7227 - val_recall: 0.3463 - val_precision: 0.5980\n",
      "Epoch 8/10\n",
      "5928/5928 [==============================] - 11s 2ms/step - loss: 0.5051 - acc: 0.7625 - recall: 0.4176 - precision: 0.7178 - val_loss: 0.5606 - val_acc: 0.7274 - val_recall: 0.3275 - val_precision: 0.6222\n",
      "Epoch 9/10\n",
      "5928/5928 [==============================] - 11s 2ms/step - loss: 0.4760 - acc: 0.7901 - recall: 0.4805 - precision: 0.7679 - val_loss: 0.5641 - val_acc: 0.7206 - val_recall: 0.4020 - val_precision: 0.5766\n",
      "Epoch 10/10\n",
      "5928/5928 [==============================] - 9s 2ms/step - loss: 0.4473 - acc: 0.8004 - recall: 0.5176 - precision: 0.7764 - val_loss: 0.5760 - val_acc: 0.7152 - val_recall: 0.4335 - val_precision: 0.5558\n"
     ]
    }
   ],
   "source": [
    "history = model.fit(x_train_pad_split, y_train_pad_split, validation_data=(x_val_pad_split, y_val_pad_split),\n",
    "                    batch_size=128, validation_split=0.2, epochs=10, callbacks=callbacks)"
   ]
  },
  {
   "cell_type": "markdown",
   "metadata": {},
   "source": [
    "## Evaluate on the test set"
   ]
  },
  {
   "cell_type": "code",
   "execution_count": 17,
   "metadata": {},
   "outputs": [],
   "source": [
    "callbacks = [\n",
    "    TensorBoard(histogram_freq=0, batch_size=128, embeddings_freq=1),\n",
    "]"
   ]
  },
  {
   "cell_type": "code",
   "execution_count": 18,
   "metadata": {},
   "outputs": [
    {
     "name": "stdout",
     "output_type": "stream",
     "text": [
      "Epoch 1/6\n",
      "7410/7410 [==============================] - 11s 1ms/step - loss: 0.6270 - acc: 0.6856 - recall: 0.0054 - precision: 0.0243\n",
      "Epoch 2/6\n",
      "7410/7410 [==============================] - 11s 1ms/step - loss: 0.6070 - acc: 0.6883 - recall: 0.0000e+00 - precision: 0.0000e+00\n",
      "Epoch 3/6\n",
      "7410/7410 [==============================] - 11s 1ms/step - loss: 0.5996 - acc: 0.6885 - recall: 0.0043 - precision: 0.1382\n",
      "Epoch 4/6\n",
      "7410/7410 [==============================] - 11s 1ms/step - loss: 0.5865 - acc: 0.6970 - recall: 0.0527 - precision: 0.4738\n",
      "Epoch 5/6\n",
      "7410/7410 [==============================] - 11s 1ms/step - loss: 0.5691 - acc: 0.7188 - recall: 0.2087 - precision: 0.6851\n",
      "Epoch 6/6\n",
      "7410/7410 [==============================] - 11s 1ms/step - loss: 0.5493 - acc: 0.7333 - recall: 0.2977 - precision: 0.6722\n"
     ]
    }
   ],
   "source": [
    "model = build_model()\n",
    "\n",
    "history = model.fit(x_train_pad, y_train, batch_size=128, epochs=6, callbacks=callbacks)"
   ]
  },
  {
   "cell_type": "code",
   "execution_count": 19,
   "metadata": {
    "scrolled": true
   },
   "outputs": [
    {
     "name": "stdout",
     "output_type": "stream",
     "text": [
      "2000/2000 [==============================] - 2s 781us/step\n"
     ]
    },
    {
     "data": {
      "text/plain": [
       "[0.483341329574585, 0.7975, 0.16947090888023378, 0.39819166421890256]"
      ]
     },
     "execution_count": 19,
     "metadata": {},
     "output_type": "execute_result"
    }
   ],
   "source": [
    "model.evaluate(x_test_pad, y_test)"
   ]
  },
  {
   "cell_type": "markdown",
   "metadata": {},
   "source": [
    "# Overall metrics "
   ]
  },
  {
   "cell_type": "code",
   "execution_count": 20,
   "metadata": {},
   "outputs": [],
   "source": [
    "from sklearn import metrics"
   ]
  },
  {
   "cell_type": "code",
   "execution_count": 21,
   "metadata": {},
   "outputs": [
    {
     "name": "stdout",
     "output_type": "stream",
     "text": [
      "precision: 0.3385281385281385 \n",
      "recall: 0.7083333333333334 \n",
      "f1: 0.4581136496777973\n"
     ]
    }
   ],
   "source": [
    "predictions = model.predict_classes(x_train_pad, batch_size=128)\n",
    "tn, fp, fn, tp = metrics.confusion_matrix(y_train, predictions).ravel()\n",
    "\n",
    "recall = tp/(tp+fp)\n",
    "precision = tp/(tp+fn)\n",
    "f1 = metrics.f1_score(y_train,predictions)\n",
    "\n",
    "print ('precision: {}'.format(precision), '\\nrecall: {}'.format(recall), '\\nf1: {}'.format(f1))"
   ]
  },
  {
   "cell_type": "code",
   "execution_count": 22,
   "metadata": {},
   "outputs": [],
   "source": [
    "#model.save('models/sentipolc_cnn_char.hdf5')"
   ]
  }
 ],
 "metadata": {
  "kernelspec": {
   "display_name": "Python 3",
   "language": "python",
   "name": "python3"
  },
  "language_info": {
   "codemirror_mode": {
    "name": "ipython",
    "version": 3
   },
   "file_extension": ".py",
   "mimetype": "text/x-python",
   "name": "python",
   "nbconvert_exporter": "python",
   "pygments_lexer": "ipython3",
   "version": "3.6.4"
  }
 },
 "nbformat": 4,
 "nbformat_minor": 2
}
