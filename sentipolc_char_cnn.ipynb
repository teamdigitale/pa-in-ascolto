{
 "cells": [
  {
   "cell_type": "code",
   "execution_count": 1,
   "metadata": {},
   "outputs": [
    {
     "name": "stderr",
     "output_type": "stream",
     "text": [
      "/home/fabio/miniconda3/envs/dl/lib/python3.6/site-packages/h5py/__init__.py:36: FutureWarning: Conversion of the second argument of issubdtype from `float` to `np.floating` is deprecated. In future, it will be treated as `np.float64 == np.dtype(float).type`.\n",
      "  from ._conv import register_converters as _register_converters\n",
      "Using TensorFlow backend.\n"
     ]
    }
   ],
   "source": [
    "import numpy as np\n",
    "import json\n",
    "from keras.preprocessing import sequence\n",
    "from keras.utils import to_categorical\n",
    "from keras.models import *\n",
    "from keras.layers import *\n",
    "from keras.callbacks import *\n",
    "from keras.optimizers import *\n",
    "import keras.backend as K"
   ]
  },
  {
   "cell_type": "code",
   "execution_count": 2,
   "metadata": {},
   "outputs": [],
   "source": [
    "with open('data/sentipolc_char_index.json', 'r') as f:\n",
    "    word_index = json.load(f)"
   ]
  },
  {
   "cell_type": "code",
   "execution_count": 3,
   "metadata": {},
   "outputs": [
    {
     "data": {
      "text/plain": [
       "127"
      ]
     },
     "execution_count": 3,
     "metadata": {},
     "output_type": "execute_result"
    }
   ],
   "source": [
    "len(word_index)"
   ]
  },
  {
   "cell_type": "code",
   "execution_count": 4,
   "metadata": {},
   "outputs": [],
   "source": [
    "data = np.load('data/sentipolc_char_seq.npz')\n",
    "\n",
    "x_train = data['x_train']\n",
    "y_train = data['y_train']\n",
    "\n",
    "x_test = data['x_test']\n",
    "y_test = data['y_test']"
   ]
  },
  {
   "cell_type": "code",
   "execution_count": 5,
   "metadata": {},
   "outputs": [
    {
     "data": {
      "text/plain": [
       "0    2543\n",
       "1    1611\n",
       "dtype: int64"
      ]
     },
     "execution_count": 5,
     "metadata": {},
     "output_type": "execute_result"
    }
   ],
   "source": [
    "import pandas as pd\n",
    "pd.Series(y_train).value_counts()"
   ]
  },
  {
   "cell_type": "markdown",
   "metadata": {},
   "source": [
    "Check the max length of the text"
   ]
  },
  {
   "cell_type": "code",
   "execution_count": 6,
   "metadata": {
    "scrolled": true
   },
   "outputs": [
    {
     "name": "stdout",
     "output_type": "stream",
     "text": [
      "max len seq 190\n",
      "max id 127\n"
     ]
    }
   ],
   "source": [
    "max_len_seq = max([len(x) for x in x_train])\n",
    "print('max len seq {}'.format(max_len_seq))\n",
    "max_idx = max(word_index.values())\n",
    "print('max id {}'.format(max_idx))"
   ]
  },
  {
   "cell_type": "code",
   "execution_count": 7,
   "metadata": {},
   "outputs": [
    {
     "data": {
      "text/plain": [
       "127"
      ]
     },
     "execution_count": 7,
     "metadata": {},
     "output_type": "execute_result"
    }
   ],
   "source": [
    "len(word_index)"
   ]
  },
  {
   "cell_type": "code",
   "execution_count": 8,
   "metadata": {},
   "outputs": [],
   "source": [
    "x_train_pad = sequence.pad_sequences(x_train, maxlen=max_len_seq, padding='post')\n",
    "x_test_pad = sequence.pad_sequences(x_test, maxlen=max_len_seq, padding='post')"
   ]
  },
  {
   "cell_type": "code",
   "execution_count": 9,
   "metadata": {},
   "outputs": [
    {
     "data": {
      "text/plain": [
       "(4154, 190)"
      ]
     },
     "execution_count": 9,
     "metadata": {},
     "output_type": "execute_result"
    }
   ],
   "source": [
    "x_train_pad.shape"
   ]
  },
  {
   "cell_type": "markdown",
   "metadata": {},
   "source": [
    "# Define metrics to use"
   ]
  },
  {
   "cell_type": "code",
   "execution_count": 10,
   "metadata": {},
   "outputs": [],
   "source": [
    "def precision(y_true, y_pred):\n",
    "    \"\"\"Precision metric.\n",
    "\n",
    "    Only computes a batch-wise average of precision.\n",
    "     Computes the precision, a metric for multi-label classification of\n",
    "     how many selected items are relevant.\n",
    "      \"\"\"\n",
    "    true_positives = K.sum(K.round(K.clip(y_true * y_pred, 0, 1)))\t\t\n",
    "    predicted_positives = K.sum(K.round(K.clip(y_pred, 0, 1)))\t\t\n",
    "    precision = true_positives / (predicted_positives + K.epsilon())\t\t\n",
    "    return precision"
   ]
  },
  {
   "cell_type": "code",
   "execution_count": 11,
   "metadata": {},
   "outputs": [],
   "source": [
    "def recall(y_true, y_pred):\n",
    "    \"\"\"Recall metric.\n",
    " \n",
    "    Only computes a batch-wise average of recall.\n",
    "    Computes the recall, a metric for multi-label classification of\n",
    "    how many relevant items are selected.\n",
    "    \"\"\"\n",
    "    true_positives = K.sum(K.round(K.clip(y_true * y_pred, 0, 1)))\n",
    "    possible_positives = K.sum(K.round(K.clip(y_true, 0, 1)))\n",
    "    recall = true_positives / (possible_positives + K.epsilon())\n",
    "    return recall"
   ]
  },
  {
   "cell_type": "code",
   "execution_count": 12,
   "metadata": {},
   "outputs": [],
   "source": [
    "from sklearn.model_selection import StratifiedShuffleSplit\n",
    "\n",
    "split_train_test = StratifiedShuffleSplit(1,test_size=0.2, random_state=123456)\n",
    "\n",
    "for train, test in split_train_test.split(x_train_pad, y_train):\n",
    "    x_train_pad_split, y_train_pad_split = x_train_pad[train], y_train[train]\n",
    "    x_val_pad_split, y_val_pad_split = x_train_pad[test], y_train[test]"
   ]
  },
  {
   "cell_type": "code",
   "execution_count": 13,
   "metadata": {
    "scrolled": true
   },
   "outputs": [],
   "source": [
    "callbacks = [\n",
    "    ReduceLROnPlateau(patience=2, verbose=1),\n",
    "    EarlyStopping(monitor='val_loss', min_delta=0, patience=5, verbose=1, mode='auto')\n",
    "]"
   ]
  },
  {
   "cell_type": "code",
   "execution_count": 22,
   "metadata": {
    "scrolled": false
   },
   "outputs": [],
   "source": [
    "def build_model():\n",
    "    model = Sequential()\n",
    "    model.add(Embedding(input_dim=max_idx+1, output_dim=50, input_length=max_len_seq))\n",
    "    model.add(Conv1D(filters=128, kernel_size=5, padding='same', activation='relu', strides=1))\n",
    "    model.add(AveragePooling1D())\n",
    "    model.add(Conv1D(filters=64, kernel_size=5, padding='same', activation='relu', strides=1))\n",
    "    model.add(GlobalMaxPool1D())\n",
    "    model.add(Dense(50, activation='relu'))\n",
    "    model.add(Dropout(0.5))\n",
    "    model.add(Dense(1, activation='sigmoid'))\n",
    "\n",
    "    model.compile(loss='binary_crossentropy', optimizer=Adam(), metrics=['accuracy'])\n",
    "    \n",
    "    return model"
   ]
  },
  {
   "cell_type": "code",
   "execution_count": 15,
   "metadata": {},
   "outputs": [
    {
     "name": "stdout",
     "output_type": "stream",
     "text": [
      "WARNING:tensorflow:From /home/fabio/miniconda3/envs/dl/lib/python3.6/site-packages/tensorflow/python/util/deprecation.py:497: calling conv1d (from tensorflow.python.ops.nn_ops) with data_format=NHWC is deprecated and will be removed in a future version.\n",
      "Instructions for updating:\n",
      "`NHWC` for data_format is deprecated, use `NWC` instead\n",
      "_________________________________________________________________\n",
      "Layer (type)                 Output Shape              Param #   \n",
      "=================================================================\n",
      "embedding_1 (Embedding)      (None, 190, 50)           6400      \n",
      "_________________________________________________________________\n",
      "conv1d_1 (Conv1D)            (None, 190, 128)          32128     \n",
      "_________________________________________________________________\n",
      "average_pooling1d_1 (Average (None, 95, 128)           0         \n",
      "_________________________________________________________________\n",
      "conv1d_2 (Conv1D)            (None, 95, 64)            41024     \n",
      "_________________________________________________________________\n",
      "global_max_pooling1d_1 (Glob (None, 64)                0         \n",
      "_________________________________________________________________\n",
      "dense_1 (Dense)              (None, 50)                3250      \n",
      "_________________________________________________________________\n",
      "dropout_1 (Dropout)          (None, 50)                0         \n",
      "_________________________________________________________________\n",
      "dense_2 (Dense)              (None, 1)                 51        \n",
      "=================================================================\n",
      "Total params: 82,853\n",
      "Trainable params: 82,853\n",
      "Non-trainable params: 0\n",
      "_________________________________________________________________\n"
     ]
    }
   ],
   "source": [
    "model = build_model()\n",
    "model.summary()"
   ]
  },
  {
   "cell_type": "code",
   "execution_count": 16,
   "metadata": {
    "scrolled": false
   },
   "outputs": [
    {
     "name": "stdout",
     "output_type": "stream",
     "text": [
      "Train on 3323 samples, validate on 831 samples\n",
      "Epoch 1/100\n",
      "3323/3323 [==============================] - 3s 809us/step - loss: 0.6686 - acc: 0.6097 - precision: 0.0888 - recall: 0.0111 - val_loss: 0.6476 - val_acc: 0.6125 - val_precision: 0.0000e+00 - val_recall: 0.0000e+00\n",
      "Epoch 2/100\n",
      "3323/3323 [==============================] - 0s 75us/step - loss: 0.6389 - acc: 0.6467 - precision: 0.6480 - recall: 0.1881 - val_loss: 0.6219 - val_acc: 0.6871 - val_precision: 0.7418 - val_recall: 0.2943\n",
      "Epoch 3/100\n",
      "3323/3323 [==============================] - 0s 75us/step - loss: 0.6263 - acc: 0.6684 - precision: 0.6413 - recall: 0.3371 - val_loss: 0.6108 - val_acc: 0.6955 - val_precision: 0.7514 - val_recall: 0.3190\n",
      "Epoch 4/100\n",
      "3323/3323 [==============================] - 0s 75us/step - loss: 0.6147 - acc: 0.6867 - precision: 0.6783 - recall: 0.3752 - val_loss: 0.5932 - val_acc: 0.7004 - val_precision: 0.7359 - val_recall: 0.3571\n",
      "Epoch 5/100\n",
      "3323/3323 [==============================] - 0s 75us/step - loss: 0.5977 - acc: 0.6855 - precision: 0.6881 - recall: 0.3636 - val_loss: 0.5927 - val_acc: 0.6859 - val_precision: 0.6014 - val_recall: 0.5715\n",
      "Epoch 6/100\n",
      "3323/3323 [==============================] - 0s 75us/step - loss: 0.5821 - acc: 0.7075 - precision: 0.7393 - recall: 0.4367 - val_loss: 0.5735 - val_acc: 0.7136 - val_precision: 0.8149 - val_recall: 0.3431\n",
      "Epoch 7/100\n",
      "3323/3323 [==============================] - 0s 75us/step - loss: 0.5684 - acc: 0.7177 - precision: 0.7298 - recall: 0.4633 - val_loss: 0.5632 - val_acc: 0.7208 - val_precision: 0.8231 - val_recall: 0.3622\n",
      "Epoch 8/100\n",
      "3323/3323 [==============================] - 0s 75us/step - loss: 0.5502 - acc: 0.7286 - precision: 0.7390 - recall: 0.4811 - val_loss: 0.5501 - val_acc: 0.7208 - val_precision: 0.7163 - val_recall: 0.4752\n",
      "Epoch 9/100\n",
      "3323/3323 [==============================] - 0s 75us/step - loss: 0.5427 - acc: 0.7421 - precision: 0.7790 - recall: 0.4830 - val_loss: 0.5505 - val_acc: 0.7256 - val_precision: 0.7494 - val_recall: 0.4498\n",
      "Epoch 10/100\n",
      "3323/3323 [==============================] - 0s 75us/step - loss: 0.5235 - acc: 0.7502 - precision: 0.7706 - recall: 0.5161 - val_loss: 0.5507 - val_acc: 0.7148 - val_precision: 0.7196 - val_recall: 0.4463\n",
      "Epoch 11/100\n",
      "3323/3323 [==============================] - 0s 75us/step - loss: 0.5109 - acc: 0.7608 - precision: 0.7789 - recall: 0.5429 - val_loss: 0.5482 - val_acc: 0.7172 - val_precision: 0.6690 - val_recall: 0.5548\n",
      "Epoch 12/100\n",
      "3323/3323 [==============================] - 0s 75us/step - loss: 0.4891 - acc: 0.7734 - precision: 0.7928 - recall: 0.5716 - val_loss: 0.5418 - val_acc: 0.7280 - val_precision: 0.7168 - val_recall: 0.5067\n",
      "Epoch 13/100\n",
      "3323/3323 [==============================] - 0s 75us/step - loss: 0.4714 - acc: 0.7818 - precision: 0.7889 - recall: 0.6036 - val_loss: 0.5585 - val_acc: 0.7160 - val_precision: 0.7489 - val_recall: 0.4165\n",
      "Epoch 14/100\n",
      "3323/3323 [==============================] - 0s 75us/step - loss: 0.4595 - acc: 0.7930 - precision: 0.8103 - recall: 0.6252 - val_loss: 0.5512 - val_acc: 0.7196 - val_precision: 0.7302 - val_recall: 0.4505\n",
      "Epoch 15/100\n",
      "3323/3323 [==============================] - 0s 76us/step - loss: 0.4409 - acc: 0.8002 - precision: 0.8085 - recall: 0.6595 - val_loss: 0.5704 - val_acc: 0.7064 - val_precision: 0.6122 - val_recall: 0.6893\n",
      "\n",
      "Epoch 00015: ReduceLROnPlateau reducing learning rate to 0.00010000000474974513.\n",
      "Epoch 16/100\n",
      "3323/3323 [==============================] - 0s 76us/step - loss: 0.4122 - acc: 0.8285 - precision: 0.8318 - recall: 0.7079 - val_loss: 0.5466 - val_acc: 0.7160 - val_precision: 0.6782 - val_recall: 0.5276\n",
      "Epoch 17/100\n",
      "3323/3323 [==============================] - 0s 76us/step - loss: 0.3984 - acc: 0.8378 - precision: 0.8474 - recall: 0.7048 - val_loss: 0.5504 - val_acc: 0.7172 - val_precision: 0.6817 - val_recall: 0.5307\n",
      "\n",
      "Epoch 00017: ReduceLROnPlateau reducing learning rate to 1.0000000474974514e-05.\n",
      "Epoch 00017: early stopping\n"
     ]
    }
   ],
   "source": [
    "history = model.fit(x_train_pad_split, y_train_pad_split, \n",
    "                    validation_data=(x_val_pad_split, y_val_pad_split),\n",
    "                    batch_size=128, epochs=100, callbacks=callbacks)"
   ]
  },
  {
   "cell_type": "markdown",
   "metadata": {},
   "source": [
    "## Evaluate on the test set"
   ]
  },
  {
   "cell_type": "code",
   "execution_count": 23,
   "metadata": {},
   "outputs": [
    {
     "name": "stdout",
     "output_type": "stream",
     "text": [
      "Epoch 1/12\n",
      "4154/4154 [==============================] - 1s 174us/step - loss: 0.6642 - acc: 0.6105\n",
      "Epoch 2/12\n",
      "4154/4154 [==============================] - 0s 69us/step - loss: 0.6358 - acc: 0.6553\n",
      "Epoch 3/12\n",
      "4154/4154 [==============================] - 0s 69us/step - loss: 0.6167 - acc: 0.6731\n",
      "Epoch 4/12\n",
      "4154/4154 [==============================] - 0s 68us/step - loss: 0.6043 - acc: 0.6904\n",
      "Epoch 5/12\n",
      "4154/4154 [==============================] - 0s 68us/step - loss: 0.5909 - acc: 0.7022\n",
      "Epoch 6/12\n",
      "4154/4154 [==============================] - 0s 69us/step - loss: 0.5735 - acc: 0.7171\n",
      "Epoch 7/12\n",
      "4154/4154 [==============================] - 0s 69us/step - loss: 0.5530 - acc: 0.7333\n",
      "Epoch 8/12\n",
      "4154/4154 [==============================] - 0s 69us/step - loss: 0.5449 - acc: 0.7364\n",
      "Epoch 9/12\n",
      "4154/4154 [==============================] - 0s 69us/step - loss: 0.5276 - acc: 0.7477\n",
      "Epoch 10/12\n",
      "4154/4154 [==============================] - 0s 69us/step - loss: 0.5174 - acc: 0.7595\n",
      "Epoch 11/12\n",
      "4154/4154 [==============================] - 0s 69us/step - loss: 0.5086 - acc: 0.7629\n",
      "Epoch 12/12\n",
      "4154/4154 [==============================] - 0s 71us/step - loss: 0.4887 - acc: 0.7778\n"
     ]
    }
   ],
   "source": [
    "model = build_model()\n",
    "\n",
    "history = model.fit(x_train_pad, y_train, batch_size=128, epochs=12)"
   ]
  },
  {
   "cell_type": "code",
   "execution_count": 25,
   "metadata": {
    "scrolled": true
   },
   "outputs": [
    {
     "name": "stdout",
     "output_type": "stream",
     "text": [
      "1050/1050 [==============================] - 0s 450us/step\n"
     ]
    }
   ],
   "source": [
    "loss, acc = model.evaluate(x_test_pad, y_test, 3)"
   ]
  },
  {
   "cell_type": "code",
   "execution_count": 27,
   "metadata": {},
   "outputs": [
    {
     "name": "stdout",
     "output_type": "stream",
     "text": [
      "0.6609133741578885 0.6228571532453809\n"
     ]
    }
   ],
   "source": [
    "print(loss, acc)"
   ]
  },
  {
   "cell_type": "code",
   "execution_count": 19,
   "metadata": {},
   "outputs": [],
   "source": [
    "#model.save('models/sentipolc_cnn_char.hdf5')"
   ]
  }
 ],
 "metadata": {
  "kernelspec": {
   "display_name": "Python 3",
   "language": "python",
   "name": "python3"
  },
  "language_info": {
   "codemirror_mode": {
    "name": "ipython",
    "version": 3
   },
   "file_extension": ".py",
   "mimetype": "text/x-python",
   "name": "python",
   "nbconvert_exporter": "python",
   "pygments_lexer": "ipython3",
   "version": "3.6.5"
  }
 },
 "nbformat": 4,
 "nbformat_minor": 2
}
