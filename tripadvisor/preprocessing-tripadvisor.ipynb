{
 "cells": [
  {
   "cell_type": "markdown",
   "metadata": {},
   "source": [
    "# Preprocessing delle recensioni di TripAdvisor per Roma"
   ]
  },
  {
   "cell_type": "code",
   "execution_count": 1,
   "metadata": {},
   "outputs": [],
   "source": [
    "import pandas as pd\n",
    "import numpy as np\n",
    "import matplotlib.pyplot as plt\n",
    "%matplotlib inline\n",
    "import string"
   ]
  },
  {
   "cell_type": "code",
   "execution_count": 2,
   "metadata": {},
   "outputs": [
    {
     "name": "stdout",
     "output_type": "stream",
     "text": [
      "Numero di recensioni totali:  81901 \n",
      "Numero di recensioni totali: 223089\n"
     ]
    }
   ],
   "source": [
    "# Import dataset\n",
    "df = pd.read_csv('reviews.csv', sep = ',')\n",
    "\n",
    "# Keep reviews in italian\n",
    "df_it = df[df['review_language']=='it'][['review_title', 'review_text', 'review_rating']]\n",
    "\n",
    "print ('Numero di recensioni totali: ', df_it.shape[0], '\\nNumero di recensioni totali:', df.shape[0])"
   ]
  },
  {
   "cell_type": "markdown",
   "metadata": {},
   "source": [
    "## Definizione delle label di output"
   ]
  },
  {
   "cell_type": "code",
   "execution_count": 3,
   "metadata": {},
   "outputs": [],
   "source": [
    "def label(x):\n",
    "    \"\"\"The function, applied to the ratings column, returns a score between -1 and 1. \n",
    "    Specifically we do this mapping:\n",
    "    1,2 ---> -1: negative\n",
    "    3 ---> 0: neutro\n",
    "    4,5 ---> 1: positive\"\"\"\n",
    "    \n",
    "    if x == 1 or  x == 2:\n",
    "        return -1\n",
    "    elif x == 3:\n",
    "        return 0\n",
    "    elif x == 4 or x == 5:\n",
    "        return 1"
   ]
  },
  {
   "cell_type": "code",
   "execution_count": 4,
   "metadata": {},
   "outputs": [],
   "source": [
    "# Map rating\n",
    "df_it['review_rating'] = df_it['review_rating'].apply(label)"
   ]
  },
  {
   "cell_type": "markdown",
   "metadata": {},
   "source": [
    "### Normalizzazione del test della review"
   ]
  },
  {
   "cell_type": "code",
   "execution_count": 5,
   "metadata": {},
   "outputs": [],
   "source": [
    "# Dictionary of punctuation\n",
    "punct_table = {ord(char):' ' for char in string.punctuation}"
   ]
  },
  {
   "cell_type": "code",
   "execution_count": 6,
   "metadata": {},
   "outputs": [],
   "source": [
    "def normalize(x):\n",
    "    \"\"\"This function normalizes the review's text. In particular,\n",
    "    1. remove the punctuation\n",
    "    2. lower case\"\"\"\n",
    "    \n",
    "    # Remove punctuation\n",
    "    s = x.translate(punct_table)\n",
    "    s = ' '.join(w.lower() for w in s.split() if len(w)>1)\n",
    "    return s"
   ]
  },
  {
   "cell_type": "code",
   "execution_count": 7,
   "metadata": {},
   "outputs": [],
   "source": [
    "df_it['review_text'] = df_it['review_text'].apply(normalize)\n",
    "df_it['review_title'] = df_it['review_title'].apply(normalize)"
   ]
  },
  {
   "cell_type": "code",
   "execution_count": 9,
   "metadata": {},
   "outputs": [
    {
     "data": {
      "text/plain": [
       " 1    69157\n",
       "-1     6632\n",
       " 0     6112\n",
       "Name: review_rating, dtype: int64"
      ]
     },
     "execution_count": 9,
     "metadata": {},
     "output_type": "execute_result"
    }
   ],
   "source": [
    "df_it['review_rating'].value_counts()"
   ]
  },
  {
   "cell_type": "markdown",
   "metadata": {},
   "source": [
    "## Utilizzo un vocabolario controllato per sostituire nelle review delle etichette positive, negative o neutre"
   ]
  },
  {
   "cell_type": "code",
   "execution_count": 8,
   "metadata": {},
   "outputs": [],
   "source": [
    "# Import vocabolario controllato\n",
    "vocabolario = pd.read_csv('sentix', sep = '\\t', header = None)[[0,5]]"
   ]
  },
  {
   "cell_type": "markdown",
   "metadata": {},
   "source": [
    "To each word we assign the label:\n",
    "\n",
    "* `$POS` if 0.25<`value`<=1\n",
    "* `$NEU` if -0.25<`value`<=0.25\n",
    "* `$NEG` if -1<`value`<-0.25"
   ]
  },
  {
   "cell_type": "code",
   "execution_count": 10,
   "metadata": {},
   "outputs": [],
   "source": [
    "def assign_label(x):\n",
    "    \"\"\"Returns the labels according to what written above\"\"\"\n",
    "    \n",
    "    if 0.25 < x <= 1:\n",
    "        return \"$POS\"\n",
    "    elif -0.25< x <= 0.25:\n",
    "        return \"$NEU\"\n",
    "    elif -1<= x <= -0.25:\n",
    "        return \"$NEG\""
   ]
  },
  {
   "cell_type": "code",
   "execution_count": 11,
   "metadata": {},
   "outputs": [],
   "source": [
    "vocabolario[5] = vocabolario[5].apply(assign_label)"
   ]
  },
  {
   "cell_type": "code",
   "execution_count": 12,
   "metadata": {},
   "outputs": [],
   "source": [
    "zip_vocabolario = {i:j for i,j in list(zip(vocabolario[0], vocabolario[5]))}"
   ]
  },
  {
   "cell_type": "markdown",
   "metadata": {},
   "source": [
    "* Qui sotto riportati valori assoluti di parole positive e negative nel vocabolario a nostra disposizione"
   ]
  },
  {
   "cell_type": "code",
   "execution_count": 13,
   "metadata": {},
   "outputs": [
    {
     "data": {
      "text/plain": [
       "$NEG    39217\n",
       "$POS    31708\n",
       "$NEU     3684\n",
       "Name: 5, dtype: int64"
      ]
     },
     "execution_count": 13,
     "metadata": {},
     "output_type": "execute_result"
    }
   ],
   "source": [
    "vocabolario[5].value_counts()"
   ]
  },
  {
   "cell_type": "markdown",
   "metadata": {},
   "source": [
    "### Sostituzione nelle review"
   ]
  },
  {
   "cell_type": "code",
   "execution_count": 14,
   "metadata": {},
   "outputs": [],
   "source": [
    "valid_string = [w for w in list(vocabolario[0]) if type(w)==str]\n",
    "lista_parole_uniche = [w for w in list(valid_string) if len(w.split('_'))<=1]\n",
    "lista_espressioni = [w for w in list(valid_string) if len(w.split('_'))>1]"
   ]
  },
  {
   "cell_type": "markdown",
   "metadata": {},
   "source": [
    "Possibili parole da aggiungere:\n",
    "\n",
    "* Impeccabile"
   ]
  },
  {
   "cell_type": "code",
   "execution_count": 15,
   "metadata": {},
   "outputs": [],
   "source": [
    "def substitute_label(x):\n",
    "    \"\"\"Substitute word with tag pos, neg, neu\"\"\"\n",
    "    l = set(lista_parole_uniche).intersection(set(x))\n",
    "    return ' '.join([zip_vocabolario[i] if i in l else i for i in x])"
   ]
  },
  {
   "cell_type": "code",
   "execution_count": 16,
   "metadata": {},
   "outputs": [],
   "source": [
    "df_it['review_text_token'] = df_it['review_text'].apply(lambda x: x.split())"
   ]
  },
  {
   "cell_type": "code",
   "execution_count": 17,
   "metadata": {},
   "outputs": [],
   "source": [
    "df_it['review_text_flag'] = df_it['review_text_token'].apply(substitute_label)"
   ]
  },
  {
   "cell_type": "markdown",
   "metadata": {},
   "source": [
    "# Ripeto le stesse operazioni sui titoli"
   ]
  },
  {
   "cell_type": "code",
   "execution_count": 18,
   "metadata": {},
   "outputs": [],
   "source": [
    "df_it['review_title_token'] = df_it['review_title'].apply(lambda x: x.split())"
   ]
  },
  {
   "cell_type": "code",
   "execution_count": 19,
   "metadata": {},
   "outputs": [],
   "source": [
    "df_it['review_title_flag'] = df_it['review_title_token'].apply(substitute_label)"
   ]
  },
  {
   "cell_type": "code",
   "execution_count": 22,
   "metadata": {},
   "outputs": [],
   "source": [
    "df_it['review_title_token_flag'] = df_it['review_title_flag'].apply(lambda x: x.split())\n",
    "df_it['review_text_token_flag'] = df_it['review_text_flag'].apply(lambda x: x.split())"
   ]
  },
  {
   "cell_type": "code",
   "execution_count": 23,
   "metadata": {},
   "outputs": [],
   "source": [
    "df_it.to_csv('preprocessed_tripadvisor_final.csv', sep = ';')"
   ]
  },
  {
   "cell_type": "markdown",
   "metadata": {},
   "source": [
    "# Vettorizzazione del dataset"
   ]
  },
  {
   "cell_type": "code",
   "execution_count": 34,
   "metadata": {},
   "outputs": [
    {
     "data": {
      "text/html": [
       "<div>\n",
       "<style scoped>\n",
       "    .dataframe tbody tr th:only-of-type {\n",
       "        vertical-align: middle;\n",
       "    }\n",
       "\n",
       "    .dataframe tbody tr th {\n",
       "        vertical-align: top;\n",
       "    }\n",
       "\n",
       "    .dataframe thead th {\n",
       "        text-align: right;\n",
       "    }\n",
       "</style>\n",
       "<table border=\"1\" class=\"dataframe\">\n",
       "  <thead>\n",
       "    <tr style=\"text-align: right;\">\n",
       "      <th></th>\n",
       "      <th>review_title</th>\n",
       "      <th>review_text</th>\n",
       "      <th>review_rating</th>\n",
       "      <th>review_text_token</th>\n",
       "      <th>review_text_flag</th>\n",
       "      <th>review_title_token</th>\n",
       "      <th>review_title_flag</th>\n",
       "      <th>review_title_token_flag</th>\n",
       "      <th>review_text_token_flag</th>\n",
       "    </tr>\n",
       "  </thead>\n",
       "  <tbody>\n",
       "    <tr>\n",
       "      <th>0</th>\n",
       "      <td>ottima posizione personale gentilissimo</td>\n",
       "      <td>ho soggiornato con la mia ragazza per notti se...</td>\n",
       "      <td>1</td>\n",
       "      <td>[ho, soggiornato, con, la, mia, ragazza, per, ...</td>\n",
       "      <td>ho soggiornato $POS la mia $POS $POS notti $PO...</td>\n",
       "      <td>[ottima, posizione, personale, gentilissimo]</td>\n",
       "      <td>ottima $POS personale gentilissimo</td>\n",
       "      <td>[ottima, $POS, personale, gentilissimo]</td>\n",
       "      <td>[ho, soggiornato, $POS, la, mia, $POS, $POS, n...</td>\n",
       "    </tr>\n",
       "    <tr>\n",
       "      <th>3</th>\n",
       "      <td>un bellissimo soggiorno</td>\n",
       "      <td>insieme alla mia ragazza decidemmo di passare ...</td>\n",
       "      <td>1</td>\n",
       "      <td>[insieme, alla, mia, ragazza, decidemmo, di, p...</td>\n",
       "      <td>$POS alla mia $POS decidemmo di $POS giorni $P...</td>\n",
       "      <td>[un, bellissimo, soggiorno]</td>\n",
       "      <td>un $POS soggiorno</td>\n",
       "      <td>[un, $POS, soggiorno]</td>\n",
       "      <td>[$POS, alla, mia, $POS, decidemmo, di, $POS, g...</td>\n",
       "    </tr>\n",
       "  </tbody>\n",
       "</table>\n",
       "</div>"
      ],
      "text/plain": [
       "                              review_title  \\\n",
       "0  ottima posizione personale gentilissimo   \n",
       "3                  un bellissimo soggiorno   \n",
       "\n",
       "                                         review_text  review_rating  \\\n",
       "0  ho soggiornato con la mia ragazza per notti se...              1   \n",
       "3  insieme alla mia ragazza decidemmo di passare ...              1   \n",
       "\n",
       "                                   review_text_token  \\\n",
       "0  [ho, soggiornato, con, la, mia, ragazza, per, ...   \n",
       "3  [insieme, alla, mia, ragazza, decidemmo, di, p...   \n",
       "\n",
       "                                    review_text_flag  \\\n",
       "0  ho soggiornato $POS la mia $POS $POS notti $PO...   \n",
       "3  $POS alla mia $POS decidemmo di $POS giorni $P...   \n",
       "\n",
       "                             review_title_token  \\\n",
       "0  [ottima, posizione, personale, gentilissimo]   \n",
       "3                   [un, bellissimo, soggiorno]   \n",
       "\n",
       "                    review_title_flag  \\\n",
       "0  ottima $POS personale gentilissimo   \n",
       "3                   un $POS soggiorno   \n",
       "\n",
       "                   review_title_token_flag  \\\n",
       "0  [ottima, $POS, personale, gentilissimo]   \n",
       "3                    [un, $POS, soggiorno]   \n",
       "\n",
       "                              review_text_token_flag  \n",
       "0  [ho, soggiornato, $POS, la, mia, $POS, $POS, n...  \n",
       "3  [$POS, alla, mia, $POS, decidemmo, di, $POS, g...  "
      ]
     },
     "execution_count": 34,
     "metadata": {},
     "output_type": "execute_result"
    }
   ],
   "source": [
    "df_it.head(2)"
   ]
  },
  {
   "cell_type": "markdown",
   "metadata": {},
   "source": [
    "* Creazione del vocabolario che mappa i sincoli termini ai rispettivi indici"
   ]
  },
  {
   "cell_type": "code",
   "execution_count": 27,
   "metadata": {},
   "outputs": [],
   "source": [
    "total_words_title = set([w for list_words in df_it['review_title_token_flag'] for w in list_words])\n",
    "total_words_text = set([w for list_words in df_it['review_text_token_flag'] for w in list_words])"
   ]
  },
  {
   "cell_type": "code",
   "execution_count": 32,
   "metadata": {},
   "outputs": [
    {
     "name": "stdout",
     "output_type": "stream",
     "text": [
      "Number of unique words: 60842\n"
     ]
    }
   ],
   "source": [
    "total_words = total_words_title.union(total_words_text)\n",
    "print ('Number of unique words: {}'.format(len(total_words)))"
   ]
  },
  {
   "cell_type": "code",
   "execution_count": 35,
   "metadata": {},
   "outputs": [],
   "source": [
    "vocabolario_index = {w:idx for idx,w in enumerate(list(total_words))}\n",
    "index_vocabolario = {idx:w for w, idx in vocabolario_index.items()}"
   ]
  },
  {
   "cell_type": "markdown",
   "metadata": {},
   "source": [
    "* Per il momento procedo costruendo il dataset solo per i testi"
   ]
  },
  {
   "cell_type": "code",
   "execution_count": 53,
   "metadata": {},
   "outputs": [],
   "source": [
    "def replace_word_index(x):\n",
    "    \"\"\"Given a list of words it returns the list of indeces\"\"\"\n",
    "    \n",
    "    return [vocabolario_index[w] for w in x]"
   ]
  },
  {
   "cell_type": "markdown",
   "metadata": {},
   "source": [
    "* Salva vocabolario"
   ]
  },
  {
   "cell_type": "code",
   "execution_count": 57,
   "metadata": {},
   "outputs": [],
   "source": [
    "import json\n",
    "\n",
    "with open('vocabolario.json', 'w') as f:\n",
    "    json.dump(vocabolario_index, f)"
   ]
  },
  {
   "cell_type": "code",
   "execution_count": 54,
   "metadata": {},
   "outputs": [],
   "source": [
    "df_it['review_text_token_flag_index'] = df_it['review_text_token_flag'].apply(replace_word_index)"
   ]
  },
  {
   "cell_type": "markdown",
   "metadata": {},
   "source": [
    "* Salva dataset con sequenze"
   ]
  },
  {
   "cell_type": "code",
   "execution_count": 65,
   "metadata": {},
   "outputs": [],
   "source": [
    "to_save = df_it[(df_it['review_rating'] == 1) | (df_it['review_rating'] == -1)][['review_rating','review_text_token_flag_index']]"
   ]
  },
  {
   "cell_type": "code",
   "execution_count": 66,
   "metadata": {},
   "outputs": [
    {
     "data": {
      "text/html": [
       "<div>\n",
       "<style scoped>\n",
       "    .dataframe tbody tr th:only-of-type {\n",
       "        vertical-align: middle;\n",
       "    }\n",
       "\n",
       "    .dataframe tbody tr th {\n",
       "        vertical-align: top;\n",
       "    }\n",
       "\n",
       "    .dataframe thead th {\n",
       "        text-align: right;\n",
       "    }\n",
       "</style>\n",
       "<table border=\"1\" class=\"dataframe\">\n",
       "  <thead>\n",
       "    <tr style=\"text-align: right;\">\n",
       "      <th></th>\n",
       "      <th>review_rating</th>\n",
       "      <th>review_text_token_flag_index</th>\n",
       "    </tr>\n",
       "  </thead>\n",
       "  <tbody>\n",
       "    <tr>\n",
       "      <th>0</th>\n",
       "      <td>1</td>\n",
       "      <td>[15466, 51018, 24435, 13013, 52884, 24435, 244...</td>\n",
       "    </tr>\n",
       "    <tr>\n",
       "      <th>3</th>\n",
       "      <td>1</td>\n",
       "      <td>[24435, 51446, 52884, 24435, 57437, 23649, 244...</td>\n",
       "    </tr>\n",
       "    <tr>\n",
       "      <th>5</th>\n",
       "      <td>1</td>\n",
       "      <td>[15466, 51018, 24435, 13013, 52884, 24435, 244...</td>\n",
       "    </tr>\n",
       "    <tr>\n",
       "      <th>8</th>\n",
       "      <td>1</td>\n",
       "      <td>[24435, 51446, 52884, 24435, 57437, 23649, 244...</td>\n",
       "    </tr>\n",
       "    <tr>\n",
       "      <th>10</th>\n",
       "      <td>1</td>\n",
       "      <td>[7627, 10410, 53294, 23649, 53923, 19826, 6053...</td>\n",
       "    </tr>\n",
       "  </tbody>\n",
       "</table>\n",
       "</div>"
      ],
      "text/plain": [
       "    review_rating                       review_text_token_flag_index\n",
       "0               1  [15466, 51018, 24435, 13013, 52884, 24435, 244...\n",
       "3               1  [24435, 51446, 52884, 24435, 57437, 23649, 244...\n",
       "5               1  [15466, 51018, 24435, 13013, 52884, 24435, 244...\n",
       "8               1  [24435, 51446, 52884, 24435, 57437, 23649, 244...\n",
       "10              1  [7627, 10410, 53294, 23649, 53923, 19826, 6053..."
      ]
     },
     "execution_count": 66,
     "metadata": {},
     "output_type": "execute_result"
    }
   ],
   "source": [
    "to_save.head()"
   ]
  },
  {
   "cell_type": "code",
   "execution_count": 67,
   "metadata": {},
   "outputs": [],
   "source": [
    "to_save.to_csv('dataset_sequence.csv', sep = ';')"
   ]
  }
 ],
 "metadata": {
  "kernelspec": {
   "display_name": "Python 3",
   "language": "python",
   "name": "python3"
  },
  "language_info": {
   "codemirror_mode": {
    "name": "ipython",
    "version": 3
   },
   "file_extension": ".py",
   "mimetype": "text/x-python",
   "name": "python",
   "nbconvert_exporter": "python",
   "pygments_lexer": "ipython3",
   "version": "3.6.4"
  }
 },
 "nbformat": 4,
 "nbformat_minor": 2
}
