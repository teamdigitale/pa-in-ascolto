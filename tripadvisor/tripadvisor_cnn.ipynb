{
 "cells": [
  {
   "cell_type": "code",
   "execution_count": 1,
   "metadata": {},
   "outputs": [
    {
     "name": "stderr",
     "output_type": "stream",
     "text": [
      "/anaconda3/lib/python3.6/site-packages/h5py/__init__.py:36: FutureWarning: Conversion of the second argument of issubdtype from `float` to `np.floating` is deprecated. In future, it will be treated as `np.float64 == np.dtype(float).type`.\n",
      "  from ._conv import register_converters as _register_converters\n",
      "Using TensorFlow backend.\n"
     ]
    }
   ],
   "source": [
    "import ast\n",
    "import json\n",
    "import numpy as np\n",
    "import pandas as pd\n",
    "from keras.preprocessing import sequence\n",
    "from keras.models import Sequential\n",
    "from keras.layers import Dense\n",
    "import json\n",
    "from keras.preprocessing import sequence\n",
    "from keras.utils import to_categorical\n",
    "from keras.models import *\n",
    "from keras.layers import *\n",
    "from keras.callbacks import *\n",
    "from keras.optimizers import *\n",
    "import keras.backend as K"
   ]
  },
  {
   "cell_type": "code",
   "execution_count": 2,
   "metadata": {},
   "outputs": [],
   "source": [
    "# Import vocabolary\n",
    "with open('vocabolario.json', 'r') as f:\n",
    "    vocab_index = json.load(f)\n",
    "    \n",
    "    \n",
    "# Import data\n",
    "df = pd.read_csv('dataset_sequence.csv', sep = ';')[['review_rating', 'review_text_token_flag_index']]\n",
    "df['review_text_token_flag_index_list'] = df['review_text_token_flag_index'].apply(lambda x: ast.literal_eval(x))"
   ]
  },
  {
   "cell_type": "markdown",
   "metadata": {},
   "source": [
    "# Split data in train, test and validation\n",
    "\n",
    "Prima di procede con lo split verifico se il dataset è bilanciato o no rispetto le classi."
   ]
  },
  {
   "cell_type": "code",
   "execution_count": 3,
   "metadata": {},
   "outputs": [
    {
     "data": {
      "text/plain": [
       "1    69157\n",
       "0     6632\n",
       "Name: review_rating_01, dtype: int64"
      ]
     },
     "execution_count": 3,
     "metadata": {},
     "output_type": "execute_result"
    }
   ],
   "source": [
    "df['review_rating_01'] = df['review_rating'].apply(lambda x: 1 if x==1 else 0)\n",
    "df['review_rating_01'].value_counts()"
   ]
  },
  {
   "cell_type": "markdown",
   "metadata": {},
   "source": [
    "Si osserva che il dataset è fortemente sbilanciato, il che potrebbe implicare una'ottima capacità di individuare review positive e una scarsa abilità ad individuare le negative. Per affrontare tale, ricorrente, problema, si prendono in considerazione quattro diverse strategie:\n",
    "\n",
    "1. Down-sample Majority Class: dove al contrario si scelgono randomicamente without replacement esempi positivi da rimuovere per pareggiare la classe in minoranza\n",
    "2. Up-sample Minority Class: dove randomicamente without replacement si pescano sample negativi fino a pareggiare le due classi\n",
    "3. Rebalance che prevede di allenare il modello su più dataset bilanciati. In particolare, in questo caso, si creano 10 dataset di 6632 unità negative e altrettante 6632 positive scelte in modo random, così che almeno tutti i campioni positivi siano visti dai modelli. Si procede quindi con *voting procedure* rispetto alle predizioni dei 10 modelli per predire la classe definitiva.\n",
    "4. Rebalancing in fase di K-fold\n",
    "\n",
    "\n",
    "__Prima di procedere con le operazioni creiamo il validation set composto dal 10% dei nostri sample (metà negativo e metà positivo). __\n",
    "\n"
   ]
  },
  {
   "cell_type": "code",
   "execution_count": 4,
   "metadata": {},
   "outputs": [
    {
     "name": "stdout",
     "output_type": "stream",
     "text": [
      "Estraiamo il 20% del totale delle reviews che corrisponde a: 7578.9. Prendiamo la metà dal df dei positivi e l'altra metà da quello dei negativi\n"
     ]
    }
   ],
   "source": [
    "from sklearn.utils import resample\n",
    "\n",
    "# Separiamo le due classi\n",
    "df_majority = df[df.review_rating_01==1]\n",
    "df_minority = df[df.review_rating_01==0]\n",
    "\n",
    "# Facciamo sampling senza ripetizione dalle due classi\n",
    "print (\"Estraiamo il 20% del totale delle reviews che corrisponde a: {}. Prendiamo la metà dal df dei positivi e l'altra metà da quello dei negativi\".format(len(df)/100*10))\n",
    "\n",
    "df_minority_sample_validation = resample(df_minority, \n",
    "                                 replace=False,     # sample with replacement\n",
    "                                 n_samples=int(len(df)/100*5/2),    # to match majority class\n",
    "                                 random_state=123)\n",
    "\n",
    "df_majority_sample_validation = resample(df_majority, \n",
    "                                 replace=False,     # sample with replacement\n",
    "                                 n_samples=int(len(df)/100*5/2),    # to match majority class\n",
    "                                 random_state=123)\n",
    "\n",
    "\n",
    "df_validation = pd.concat([df_minority_sample_validation, df_majority_sample_validation])"
   ]
  },
  {
   "cell_type": "markdown",
   "metadata": {},
   "source": [
    "\n",
    "Procediamo con il Down-sample della Majority Class.\n",
    "\n",
    "\n",
    "* Separiamo i sample delle due classi in due df\n",
    "* Facciamo samplin senza reimissione così da ottenere un numero si esempi pari al numero di sample della minority class.\n",
    "* Combiniamo i due dataset."
   ]
  },
  {
   "cell_type": "code",
   "execution_count": 5,
   "metadata": {},
   "outputs": [],
   "source": [
    "# Remove the items in the validation\n",
    "df_majority = df_majority.drop(df_majority_sample_validation.index)\n",
    "df_minority = df_minority.drop(df_minority_sample_validation.index)"
   ]
  },
  {
   "cell_type": "code",
   "execution_count": 6,
   "metadata": {},
   "outputs": [
    {
     "data": {
      "text/plain": [
       "67263"
      ]
     },
     "execution_count": 6,
     "metadata": {},
     "output_type": "execute_result"
    }
   ],
   "source": [
    "len(df_majority)"
   ]
  },
  {
   "cell_type": "code",
   "execution_count": 7,
   "metadata": {},
   "outputs": [
    {
     "data": {
      "text/plain": [
       "1    4738\n",
       "0    4738\n",
       "Name: review_rating_01, dtype: int64"
      ]
     },
     "execution_count": 7,
     "metadata": {},
     "output_type": "execute_result"
    }
   ],
   "source": [
    "# Downsample majority class\n",
    "df_majority_downsampled = resample(df_majority, \n",
    "                                 replace=False,    # sample without replacement\n",
    "                                 n_samples=len(df_minority),     # to match minority class\n",
    "                                 random_state=123) # reproducible results\n",
    " \n",
    "# Combine minority class with downsampled majority class\n",
    "df_downsampled = pd.concat([df_majority_downsampled, df_minority])\n",
    " \n",
    "# Display new class counts\n",
    "df_downsampled.review_rating_01.value_counts()"
   ]
  },
  {
   "cell_type": "markdown",
   "metadata": {},
   "source": [
    "## Define X and Y for the training step"
   ]
  },
  {
   "cell_type": "code",
   "execution_count": 27,
   "metadata": {},
   "outputs": [],
   "source": [
    "x_train = np.array(df_downsampled['review_text_token_flag_index_list'])\n",
    "y_train = np.array(df_downsampled['review_rating_01'])\n",
    "\n",
    "x_validation = np.array(df_validation['review_text_token_flag_index_list'])\n",
    "y_validation = np.array(df_validation['review_rating_01'])"
   ]
  },
  {
   "cell_type": "code",
   "execution_count": 28,
   "metadata": {},
   "outputs": [
    {
     "name": "stdout",
     "output_type": "stream",
     "text": [
      "max len seq 937\n",
      "max id 60841\n"
     ]
    }
   ],
   "source": [
    "# Check the max length\n",
    "max_len_seq = max([len(x) for x in x_train])\n",
    "print('max len seq {}'.format(max_len_seq))\n",
    "max_idx = max(vocab_index.values())\n",
    "print('max id {}'.format(max_idx))"
   ]
  },
  {
   "cell_type": "code",
   "execution_count": 29,
   "metadata": {},
   "outputs": [],
   "source": [
    "# Pad the sequences\n",
    "x_train_pad = sequence.pad_sequences(x_train, maxlen=max_len_seq, padding='post')\n",
    "x_validation_pad = sequence.pad_sequences(x_validation, maxlen=max_len_seq, padding='post')"
   ]
  },
  {
   "cell_type": "code",
   "execution_count": 30,
   "metadata": {},
   "outputs": [],
   "source": [
    "from sklearn.model_selection import StratifiedShuffleSplit"
   ]
  },
  {
   "cell_type": "code",
   "execution_count": 31,
   "metadata": {},
   "outputs": [],
   "source": [
    "split_train_test = StratifiedShuffleSplit(1,test_size=0.2, random_state=123456)\n",
    "\n",
    "for train, test in split_train_test.split(x_train_pad, y_train):\n",
    "    x_train_pad_split, y_train_pad_split = x_train_pad[train], y_train[train]\n",
    "    x_val_pad_split, y_val_pad_split = x_train_pad[test], y_train[test]"
   ]
  },
  {
   "cell_type": "markdown",
   "metadata": {},
   "source": [
    "## Build the model"
   ]
  },
  {
   "cell_type": "code",
   "execution_count": 44,
   "metadata": {},
   "outputs": [],
   "source": [
    "def precision(y_true, y_pred):\n",
    "    \"\"\"Precision metric.\n",
    "\n",
    "    Only computes a batch-wise average of precision.\n",
    "     Computes the precision, a metric for multi-label classification of\n",
    "     how many selected items are relevant.\n",
    "      \"\"\"\n",
    "    true_positives = K.sum(K.round(K.clip(y_true * y_pred, 0, 1)))\t\t\n",
    "    predicted_positives = K.sum(K.round(K.clip(y_pred, 0, 1)))\t\t\n",
    "    precision = true_positives / (predicted_positives + K.epsilon())\t\t\n",
    "    return precision"
   ]
  },
  {
   "cell_type": "code",
   "execution_count": 45,
   "metadata": {},
   "outputs": [],
   "source": [
    "def recall(y_true, y_pred):\n",
    "    \"\"\"Recall metric.\n",
    " \n",
    "    Only computes a batch-wise average of recall.\n",
    "    Computes the recall, a metric for multi-label classification of\n",
    "    how many relevant items are selected.\n",
    "    \"\"\"\n",
    "    true_positives = K.sum(K.round(K.clip(y_true * y_pred, 0, 1)))\n",
    "    possible_positives = K.sum(K.round(K.clip(y_true, 0, 1)))\n",
    "    recall = true_positives / (possible_positives + K.epsilon())\n",
    "    return recall"
   ]
  },
  {
   "cell_type": "code",
   "execution_count": 46,
   "metadata": {},
   "outputs": [],
   "source": [
    "callbacks = [\n",
    "    TensorBoard(histogram_freq=1, batch_size=128, embeddings_freq=1),\n",
    "    ReduceLROnPlateau(patience=2, verbose=1)\n",
    "]"
   ]
  },
  {
   "cell_type": "code",
   "execution_count": 51,
   "metadata": {},
   "outputs": [],
   "source": [
    "def build_model():\n",
    "    model = Sequential()\n",
    "    model.add(Embedding(input_dim=max_idx+1, output_dim=50, input_length=max_len_seq))\n",
    "    model.add(Conv1D(filters=8, kernel_size=10, padding='same', activation='relu', strides=2))\n",
    "    model.add(MaxPooling1D(2))\n",
    "    model.add(Conv1D(filters=8, kernel_size=10, padding='same', activation='relu', strides=2))\n",
    "    model.add(GlobalMaxPool1D())\n",
    "    model.add(Dense(50, activation='relu'))\n",
    "    model.add(Dropout(0.5))\n",
    "    model.add(Dense(1, activation='sigmoid'))\n",
    "    model.compile(loss='binary_crossentropy', optimizer=Adam(), metrics=['accuracy', precision, recall])\n",
    "    \n",
    "    return model"
   ]
  },
  {
   "cell_type": "code",
   "execution_count": 67,
   "metadata": {},
   "outputs": [
    {
     "name": "stdout",
     "output_type": "stream",
     "text": [
      "_________________________________________________________________\n",
      "Layer (type)                 Output Shape              Param #   \n",
      "=================================================================\n",
      "embedding_5 (Embedding)      (None, 937, 50)           3042100   \n",
      "_________________________________________________________________\n",
      "conv1d_9 (Conv1D)            (None, 937, 8)            4008      \n",
      "_________________________________________________________________\n",
      "max_pooling1d_5 (MaxPooling1 (None, 468, 8)            0         \n",
      "_________________________________________________________________\n",
      "conv1d_10 (Conv1D)           (None, 468, 8)            648       \n",
      "_________________________________________________________________\n",
      "global_max_pooling1d_5 (Glob (None, 8)                 0         \n",
      "_________________________________________________________________\n",
      "dense_9 (Dense)              (None, 50)                450       \n",
      "_________________________________________________________________\n",
      "dropout_5 (Dropout)          (None, 50)                0         \n",
      "_________________________________________________________________\n",
      "dense_10 (Dense)             (None, 1)                 51        \n",
      "=================================================================\n",
      "Total params: 3,047,257\n",
      "Trainable params: 3,047,257\n",
      "Non-trainable params: 0\n",
      "_________________________________________________________________\n"
     ]
    }
   ],
   "source": [
    "model = build_model()\n",
    "model.summary()"
   ]
  },
  {
   "cell_type": "markdown",
   "metadata": {},
   "source": [
    "## Prova\n",
    "\n",
    "1. buono con filters=8, window = 10, stride = 2"
   ]
  },
  {
   "cell_type": "code",
   "execution_count": 68,
   "metadata": {},
   "outputs": [
    {
     "name": "stdout",
     "output_type": "stream",
     "text": [
      "Train on 7580 samples, validate on 1896 samples\n",
      "Epoch 1/10\n",
      "7580/7580 [==============================] - 28s 4ms/step - loss: 0.6931 - acc: 0.4991 - precision: 0.4347 - recall: 0.1692 - val_loss: 0.6903 - val_acc: 0.6150 - val_precision: 0.7165 - val_recall: 0.3826\n",
      "Epoch 2/10\n",
      "7580/7580 [==============================] - 26s 3ms/step - loss: 0.6666 - acc: 0.6584 - precision: 0.7886 - recall: 0.4252 - val_loss: 0.5993 - val_acc: 0.7711 - val_precision: 0.8392 - val_recall: 0.6697\n",
      "Epoch 3/10\n",
      "7580/7580 [==============================] - 29s 4ms/step - loss: 0.4841 - acc: 0.8385 - precision: 0.8689 - recall: 0.8002 - val_loss: 0.4124 - val_acc: 0.8518 - val_precision: 0.8806 - val_recall: 0.8144\n",
      "Epoch 4/10\n",
      "7580/7580 [==============================] - 30s 4ms/step - loss: 0.2437 - acc: 0.9223 - precision: 0.9079 - recall: 0.9397 - val_loss: 0.2755 - val_acc: 0.8908 - val_precision: 0.8532 - val_recall: 0.9451\n",
      "Epoch 5/10\n",
      "7580/7580 [==============================] - 28s 4ms/step - loss: 0.1338 - acc: 0.9586 - precision: 0.9452 - recall: 0.9740 - val_loss: 0.2525 - val_acc: 0.9035 - val_precision: 0.9061 - val_recall: 0.9005\n",
      "Epoch 6/10\n",
      "7580/7580 [==============================] - 29s 4ms/step - loss: 0.0889 - acc: 0.9737 - precision: 0.9628 - recall: 0.9856 - val_loss: 0.2729 - val_acc: 0.9088 - val_precision: 0.9241 - val_recall: 0.8902\n",
      "Epoch 7/10\n",
      "7580/7580 [==============================] - 31s 4ms/step - loss: 0.0629 - acc: 0.9825 - precision: 0.9751 - recall: 0.9901 - val_loss: 0.2790 - val_acc: 0.9114 - val_precision: 0.9167 - val_recall: 0.9048\n",
      "Epoch 8/10\n",
      "7580/7580 [==============================] - 29s 4ms/step - loss: 0.0415 - acc: 0.9900 - precision: 0.9845 - recall: 0.9955 - val_loss: 0.3088 - val_acc: 0.9082 - val_precision: 0.9187 - val_recall: 0.8951\n",
      "Epoch 9/10\n",
      "7580/7580 [==============================] - 29s 4ms/step - loss: 0.0286 - acc: 0.9926 - precision: 0.9900 - recall: 0.9953 - val_loss: 0.3336 - val_acc: 0.9109 - val_precision: 0.9072 - val_recall: 0.9153\n",
      "Epoch 10/10\n",
      "7580/7580 [==============================] - 26s 3ms/step - loss: 0.0202 - acc: 0.9959 - precision: 0.9931 - recall: 0.9989 - val_loss: 0.3614 - val_acc: 0.9103 - val_precision: 0.9060 - val_recall: 0.9152\n"
     ]
    }
   ],
   "source": [
    "history = model.fit(x_train_pad_split, y_train_pad_split, validation_data=(x_val_pad_split, y_val_pad_split),\n",
    "                    batch_size=200, validation_split=0.2, epochs=10)"
   ]
  },
  {
   "cell_type": "code",
   "execution_count": 70,
   "metadata": {},
   "outputs": [
    {
     "data": {
      "text/plain": [
       "dict_keys(['val_loss', 'val_acc', 'val_precision', 'val_recall', 'loss', 'acc', 'precision', 'recall'])"
      ]
     },
     "execution_count": 70,
     "metadata": {},
     "output_type": "execute_result"
    }
   ],
   "source": [
    "history.history.keys()"
   ]
  },
  {
   "cell_type": "code",
   "execution_count": 73,
   "metadata": {},
   "outputs": [
    {
     "data": {
      "text/plain": [
       "[0.7164918727512601,\n",
       " 0.8392457675330246,\n",
       " 0.8806299189978009,\n",
       " 0.8532025967469196,\n",
       " 0.9060670074531297,\n",
       " 0.9241278619202884,\n",
       " 0.9167283189950614,\n",
       " 0.9186837876899333,\n",
       " 0.9071850816911786,\n",
       " 0.9060052069933605]"
      ]
     },
     "execution_count": 73,
     "metadata": {},
     "output_type": "execute_result"
    }
   ],
   "source": [
    "history.history['val_precision']"
   ]
  },
  {
   "cell_type": "code",
   "execution_count": 77,
   "metadata": {},
   "outputs": [
    {
     "data": {
      "text/plain": [
       "<matplotlib.legend.Legend at 0x1834c14160>"
      ]
     },
     "execution_count": 77,
     "metadata": {},
     "output_type": "execute_result"
    },
    {
     "data": {
      "image/png": "[encoded data removed]",
      "text/plain": [
       "<matplotlib.figure.Figure at 0x1834c7cac8>"
      ]
     },
     "metadata": {},
     "output_type": "display_data"
    }
   ],
   "source": [
    "plt.plot(history.history['acc'])\n",
    "plt.plot(history.history['val_acc'])\n",
    "plt.plot(history.history['precision'])\n",
    "plt.plot(history.history['val_precision'])\n",
    "plt.legend(['acc_train', 'acc_test', 'prec_train', 'prec_test'], loc='lower right')"
   ]
  },
  {
   "cell_type": "code",
   "execution_count": 32,
   "metadata": {},
   "outputs": [
    {
     "data": {
      "text/plain": [
       "<matplotlib.legend.Legend at 0x182e95f7b8>"
      ]
     },
     "execution_count": 32,
     "metadata": {},
     "output_type": "execute_result"
    }
   ],
   "source": [
    "import matplotlib.pyplot as plt\n",
    "# summarize history for accuracy\n",
    "plt.plot(history.history['acc'])\n",
    "plt.plot(history.history['val_acc'])\n",
    "plt.title('model accuracy')\n",
    "plt.ylabel('accuracy')\n",
    "plt.xlabel('epoch')\n",
    "plt.legend(['train', 'test'], loc='upper left')"
   ]
  },
  {
   "cell_type": "code",
   "execution_count": 78,
   "metadata": {},
   "outputs": [
    {
     "name": "stdout",
     "output_type": "stream",
     "text": [
      "3788/3788 [==============================] - 5s 1ms/step\n"
     ]
    },
    {
     "data": {
      "text/plain": [
       "[0.3292366213773976,\n",
       " 0.9046990496304118,\n",
       " 0.5012460399454474,\n",
       " 0.45895946718193786]"
      ]
     },
     "execution_count": 78,
     "metadata": {},
     "output_type": "execute_result"
    }
   ],
   "source": [
    "model.evaluate(x_validation_pad, y_validation)"
   ]
  },
  {
   "cell_type": "code",
   "execution_count": 80,
   "metadata": {},
   "outputs": [],
   "source": [
    "prediction = model.predict_classes(x_validation_pad)"
   ]
  },
  {
   "cell_type": "code",
   "execution_count": 85,
   "metadata": {},
   "outputs": [],
   "source": [
    "from sklearn import metrics"
   ]
  },
  {
   "cell_type": "code",
   "execution_count": 86,
   "metadata": {},
   "outputs": [
    {
     "name": "stdout",
     "output_type": "stream",
     "text": [
      "precision: 0.9149947201689546 \n",
      "recall: 0.8965338851526126 \n",
      "f1: 0.9056702377841651\n"
     ]
    }
   ],
   "source": [
    "prediction = model.predict_classes(x_validation_pad)\n",
    "tn, fp, fn, tp = metrics.confusion_matrix(y_validation, prediction).ravel()\n",
    "\n",
    "recall = tp/(tp+fp)\n",
    "precision = tp/(tp+fn)\n",
    "f1 = metrics.f1_score(y_validation,prediction)\n",
    "\n",
    "print ('precision: {}'.format(precision), '\\nrecall: {}'.format(recall), '\\nf1: {}'.format(f1))"
   ]
  },
  {
   "cell_type": "code",
   "execution_count": null,
   "metadata": {},
   "outputs": [],
   "source": []
  },
  {
   "cell_type": "code",
   "execution_count": 81,
   "metadata": {},
   "outputs": [
    {
     "name": "stdout",
     "output_type": "stream",
     "text": [
      "Epoch 1/10\n",
      "13264/13264 [==============================] - 22s 2ms/step - loss: 0.6533 - acc: 0.6046 - precision: 0.7198 - recall: 0.3153\n",
      "Epoch 2/10\n",
      "13264/13264 [==============================] - 21s 2ms/step - loss: 0.2973 - acc: 0.8840 - precision: 0.8734 - recall: 0.8982\n",
      "Epoch 3/10\n",
      "13264/13264 [==============================] - 19s 1ms/step - loss: 0.1695 - acc: 0.9391 - precision: 0.9342 - recall: 0.9462\n",
      "Epoch 4/10\n",
      "13264/13264 [==============================] - 19s 1ms/step - loss: 0.1125 - acc: 0.9625 - precision: 0.9569 - recall: 0.9688\n",
      "Epoch 5/10\n",
      "13264/13264 [==============================] - 20s 1ms/step - loss: 0.0813 - acc: 0.9759 - precision: 0.9732 - recall: 0.9788\n",
      "Epoch 6/10\n",
      "13264/13264 [==============================] - 23s 2ms/step - loss: 0.0585 - acc: 0.9836 - precision: 0.9809 - recall: 0.9868\n",
      "Epoch 7/10\n",
      "13264/13264 [==============================] - 22s 2ms/step - loss: 0.0457 - acc: 0.9873 - precision: 0.9849 - recall: 0.9896\n",
      "Epoch 8/10\n",
      "13264/13264 [==============================] - 19s 1ms/step - loss: 0.0366 - acc: 0.9901 - precision: 0.9880 - recall: 0.9925\n",
      "Epoch 9/10\n",
      "13264/13264 [==============================] - 19s 1ms/step - loss: 0.0322 - acc: 0.9919 - precision: 0.9896 - recall: 0.9942\n",
      "Epoch 10/10\n",
      "13264/13264 [==============================] - 20s 1ms/step - loss: 0.0247 - acc: 0.9937 - precision: 0.9920 - recall: 0.9958\n"
     ]
    }
   ],
   "source": [
    "model = build_model()\n",
    "\n",
    "history = model.fit(x_train_pad, y_train, batch_size=128, epochs=10)"
   ]
  }
 ],
 "metadata": {
  "kernelspec": {
   "display_name": "Python 3",
   "language": "python",
   "name": "python3"
  },
  "language_info": {
   "codemirror_mode": {
    "name": "ipython",
    "version": 3
   },
   "file_extension": ".py",
   "mimetype": "text/x-python",
   "name": "python",
   "nbconvert_exporter": "python",
   "pygments_lexer": "ipython3",
   "version": "3.6.4"
  }
 },
 "nbformat": 4,
 "nbformat_minor": 2
}
