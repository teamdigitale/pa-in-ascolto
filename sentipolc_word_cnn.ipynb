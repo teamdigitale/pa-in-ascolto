{
 "cells": [
  {
   "cell_type": "code",
   "execution_count": 1,
   "metadata": {},
   "outputs": [
    {
     "name": "stderr",
     "output_type": "stream",
     "text": [
      "/anaconda3/lib/python3.6/site-packages/h5py/__init__.py:36: FutureWarning: Conversion of the second argument of issubdtype from `float` to `np.floating` is deprecated. In future, it will be treated as `np.float64 == np.dtype(float).type`.\n",
      "  from ._conv import register_converters as _register_converters\n",
      "Using TensorFlow backend.\n"
     ]
    }
   ],
   "source": [
    "import numpy as np\n",
    "\n",
    "import json\n",
    "from keras.preprocessing import sequence\n",
    "from keras.utils import to_categorical\n",
    "from keras.models import *\n",
    "from keras.layers import *\n",
    "from keras.callbacks import *\n",
    "from keras.optimizers import *\n",
    "import keras.backend as K"
   ]
  },
  {
   "cell_type": "code",
   "execution_count": 2,
   "metadata": {},
   "outputs": [],
   "source": [
    "with open('data/sentipolc_word_index.json', 'r') as f:\n",
    "    word_index = json.load(f)"
   ]
  },
  {
   "cell_type": "code",
   "execution_count": 3,
   "metadata": {},
   "outputs": [],
   "source": [
    "with open('data/words.tsv', 'w') as f:\n",
    "    for w,_ in word_index.items():\n",
    "        f.write('{}\\n'.format(w))"
   ]
  },
  {
   "cell_type": "code",
   "execution_count": 4,
   "metadata": {},
   "outputs": [],
   "source": [
    "words = [w for w,_ in word_index.items()]"
   ]
  },
  {
   "cell_type": "code",
   "execution_count": 5,
   "metadata": {},
   "outputs": [],
   "source": [
    "data = np.load('data/sentipolc_seq.npz')\n",
    "\n",
    "x_train = data['x_train']\n",
    "y_train = data['y_train']\n",
    "\n",
    "x_test = data['x_test']\n",
    "y_test = data['y_test']"
   ]
  },
  {
   "cell_type": "markdown",
   "metadata": {},
   "source": [
    "Check the max length of the text"
   ]
  },
  {
   "cell_type": "code",
   "execution_count": 6,
   "metadata": {
    "scrolled": true
   },
   "outputs": [
    {
     "name": "stdout",
     "output_type": "stream",
     "text": [
      "max len seq 40\n",
      "max id 15204\n"
     ]
    }
   ],
   "source": [
    "max_len_seq = max([len(x) for x in x_train])\n",
    "print('max len seq {}'.format(max_len_seq))\n",
    "max_idx = max(word_index.values())\n",
    "print('max id {}'.format(max_idx))"
   ]
  },
  {
   "cell_type": "code",
   "execution_count": 7,
   "metadata": {},
   "outputs": [],
   "source": [
    "x_train_pad = sequence.pad_sequences(x_train, maxlen=max_len_seq, padding='post')\n",
    "x_test_pad = sequence.pad_sequences(x_test, maxlen=max_len_seq, padding='post')"
   ]
  },
  {
   "cell_type": "code",
   "execution_count": 8,
   "metadata": {},
   "outputs": [
    {
     "data": {
      "text/plain": [
       "(7410, 40)"
      ]
     },
     "execution_count": 8,
     "metadata": {},
     "output_type": "execute_result"
    }
   ],
   "source": [
    "x_train_pad.shape"
   ]
  },
  {
   "cell_type": "code",
   "execution_count": 9,
   "metadata": {},
   "outputs": [
    {
     "data": {
      "text/plain": [
       "array([[15204,    11,   980,    15, 15204, 15204,    22, 15204, 15204,\n",
       "          109,    10, 15204,    34,    33, 15204, 15204, 15204,    47,\n",
       "        15204,     0,     0,     0,     0,     0,     0,     0,     0,\n",
       "            0,     0,     0,     0,     0,     0,     0,     0,     0,\n",
       "            0,     0,     0,     0],\n",
       "       [15204, 15204,  1381,   474, 15204, 15204, 15204,    47, 15204,\n",
       "            0,     0,     0,     0,     0,     0,     0,     0,     0,\n",
       "            0,     0,     0,     0,     0,     0,     0,     0,     0,\n",
       "            0,     0,     0,     0,     0,     0,     0,     0,     0,\n",
       "            0,     0,     0,     0]], dtype=int32)"
      ]
     },
     "execution_count": 9,
     "metadata": {},
     "output_type": "execute_result"
    }
   ],
   "source": [
    "x_train_pad[:2]"
   ]
  },
  {
   "cell_type": "markdown",
   "metadata": {},
   "source": [
    "# Define metrics"
   ]
  },
  {
   "cell_type": "code",
   "execution_count": 10,
   "metadata": {},
   "outputs": [],
   "source": [
    "def precision(y_true, y_pred):\n",
    "    \"\"\"Precision metric.\n",
    "\n",
    "    Only computes a batch-wise average of precision.\n",
    "     Computes the precision, a metric for multi-label classification of\n",
    "     how many selected items are relevant.\n",
    "      \"\"\"\n",
    "    true_positives = K.sum(K.round(K.clip(y_true * y_pred, 0, 1)))\t\t\n",
    "    predicted_positives = K.sum(K.round(K.clip(y_pred, 0, 1)))\t\t\n",
    "    precision = true_positives / (predicted_positives + K.epsilon())\t\t\n",
    "    return precision"
   ]
  },
  {
   "cell_type": "code",
   "execution_count": 11,
   "metadata": {},
   "outputs": [],
   "source": [
    "def recall(y_true, y_pred):\n",
    "    \"\"\"Recall metric.\n",
    " \n",
    "    Only computes a batch-wise average of recall.\n",
    "    Computes the recall, a metric for multi-label classification of\n",
    "    how many relevant items are selected.\n",
    "    \"\"\"\n",
    "    true_positives = K.sum(K.round(K.clip(y_true * y_pred, 0, 1)))\n",
    "    possible_positives = K.sum(K.round(K.clip(y_true, 0, 1)))\n",
    "    recall = true_positives / (possible_positives + K.epsilon())\n",
    "    return recall"
   ]
  },
  {
   "cell_type": "code",
   "execution_count": 12,
   "metadata": {},
   "outputs": [],
   "source": [
    "from sklearn.model_selection import StratifiedShuffleSplit\n",
    "\n",
    "split_train_test = StratifiedShuffleSplit(1,test_size=0.2, random_state=123456)\n",
    "\n",
    "for train, test in split_train_test.split(x_train_pad, y_train):\n",
    "    x_train_pad_split, y_train_pad_split = x_train_pad[train], y_train[train]\n",
    "    x_val_pad_split, y_val_pad_split = x_train_pad[test], y_train[test]"
   ]
  },
  {
   "cell_type": "code",
   "execution_count": 13,
   "metadata": {
    "scrolled": true
   },
   "outputs": [
    {
     "name": "stdout",
     "output_type": "stream",
     "text": [
      "WARNING:tensorflow:From /anaconda3/lib/python3.6/site-packages/tensorflow/contrib/learn/python/learn/datasets/base.py:198: retry (from tensorflow.contrib.learn.python.learn.datasets.base) is deprecated and will be removed in a future version.\n",
      "Instructions for updating:\n",
      "Use the retry module or similar alternatives.\n"
     ]
    }
   ],
   "source": [
    "callbacks = [\n",
    "    TensorBoard(histogram_freq=1, batch_size=128, embeddings_freq=1),\n",
    "    ReduceLROnPlateau(patience=2, verbose=1)\n",
    "]"
   ]
  },
  {
   "cell_type": "code",
   "execution_count": 14,
   "metadata": {
    "scrolled": false
   },
   "outputs": [],
   "source": [
    "def build_model():\n",
    "    model = Sequential()\n",
    "    model.add(Embedding(input_dim=max_idx+1, output_dim=100, input_length=max_len_seq))\n",
    "    model.add(Conv1D(filters=64, kernel_size=5, padding='same', activation='relu', strides=1))\n",
    "    model.add(MaxPooling1D(2))\n",
    "    model.add(Conv1D(filters=32, kernel_size=5, padding='same', activation='relu', strides=1))\n",
    "    model.add(GlobalMaxPool1D())\n",
    "    model.add(Dense(50, activation='relu'))\n",
    "    model.add(Dropout(0.5))\n",
    "    model.add(Dense(1, activation='sigmoid'))\n",
    "\n",
    "    model.compile(loss='binary_crossentropy', optimizer=Adam(), metrics=['accuracy', precision, recall])\n",
    "    \n",
    "    return model"
   ]
  },
  {
   "cell_type": "code",
   "execution_count": 15,
   "metadata": {},
   "outputs": [
    {
     "name": "stdout",
     "output_type": "stream",
     "text": [
      "WARNING:tensorflow:From /anaconda3/lib/python3.6/site-packages/tensorflow/python/util/deprecation.py:497: calling conv1d (from tensorflow.python.ops.nn_ops) with data_format=NHWC is deprecated and will be removed in a future version.\n",
      "Instructions for updating:\n",
      "`NHWC` for data_format is deprecated, use `NWC` instead\n",
      "_________________________________________________________________\n",
      "Layer (type)                 Output Shape              Param #   \n",
      "=================================================================\n",
      "embedding_1 (Embedding)      (None, 40, 100)           1520500   \n",
      "_________________________________________________________________\n",
      "conv1d_1 (Conv1D)            (None, 40, 64)            32064     \n",
      "_________________________________________________________________\n",
      "max_pooling1d_1 (MaxPooling1 (None, 20, 64)            0         \n",
      "_________________________________________________________________\n",
      "conv1d_2 (Conv1D)            (None, 20, 32)            10272     \n",
      "_________________________________________________________________\n",
      "global_max_pooling1d_1 (Glob (None, 32)                0         \n",
      "_________________________________________________________________\n",
      "dense_1 (Dense)              (None, 50)                1650      \n",
      "_________________________________________________________________\n",
      "dropout_1 (Dropout)          (None, 50)                0         \n",
      "_________________________________________________________________\n",
      "dense_2 (Dense)              (None, 1)                 51        \n",
      "=================================================================\n",
      "Total params: 1,564,537\n",
      "Trainable params: 1,564,537\n",
      "Non-trainable params: 0\n",
      "_________________________________________________________________\n"
     ]
    }
   ],
   "source": [
    "model = build_model()\n",
    "model.summary()"
   ]
  },
  {
   "cell_type": "code",
   "execution_count": 17,
   "metadata": {
    "scrolled": false
   },
   "outputs": [
    {
     "name": "stdout",
     "output_type": "stream",
     "text": [
      "Train on 5928 samples, validate on 1482 samples\n",
      "Epoch 1/10\n",
      "5928/5928 [==============================] - 4s 678us/step - loss: 0.6323 - acc: 0.6837 - precision: 0.0048 - recall: 0.0062 - val_loss: 0.6176 - val_acc: 0.6883 - val_precision: 0.0000e+00 - val_recall: 0.0000e+00\n",
      "Epoch 2/10\n",
      "5928/5928 [==============================] - 3s 537us/step - loss: 0.6117 - acc: 0.6883 - precision: 0.0000e+00 - recall: 0.0000e+00 - val_loss: 0.6101 - val_acc: 0.6883 - val_precision: 0.0000e+00 - val_recall: 0.0000e+00\n",
      "Epoch 3/10\n",
      "5928/5928 [==============================] - 3s 511us/step - loss: 0.5522 - acc: 0.6945 - precision: 0.2883 - recall: 0.0394 - val_loss: 0.6240 - val_acc: 0.6950 - val_precision: 0.5370 - val_recall: 0.0995\n",
      "Epoch 4/10\n",
      "5928/5928 [==============================] - 3s 584us/step - loss: 0.3961 - acc: 0.8281 - precision: 0.8002 - recall: 0.6146 - val_loss: 0.6952 - val_acc: 0.6633 - val_precision: 0.4549 - val_recall: 0.3912\n",
      "Epoch 5/10\n",
      "5928/5928 [==============================] - 3s 587us/step - loss: 0.2281 - acc: 0.9108 - precision: 0.8639 - recall: 0.8505 - val_loss: 0.9377 - val_acc: 0.6781 - val_precision: 0.4801 - val_recall: 0.3815\n",
      "Epoch 6/10\n",
      "5928/5928 [==============================] - 4s 633us/step - loss: 0.1486 - acc: 0.9448 - precision: 0.9168 - recall: 0.9077 - val_loss: 1.0745 - val_acc: 0.6646 - val_precision: 0.4572 - val_recall: 0.4292\n",
      "Epoch 7/10\n",
      "5928/5928 [==============================] - 4s 606us/step - loss: 0.1084 - acc: 0.9580 - precision: 0.9335 - recall: 0.9318 - val_loss: 1.2770 - val_acc: 0.6687 - val_precision: 0.4625 - val_recall: 0.3934\n",
      "Epoch 8/10\n",
      "5928/5928 [==============================] - 4s 610us/step - loss: 0.0814 - acc: 0.9690 - precision: 0.9573 - recall: 0.9433 - val_loss: 1.3890 - val_acc: 0.6734 - val_precision: 0.4677 - val_recall: 0.4008\n",
      "Epoch 9/10\n",
      "5928/5928 [==============================] - 3s 573us/step - loss: 0.0687 - acc: 0.9760 - precision: 0.9648 - recall: 0.9579 - val_loss: 1.4778 - val_acc: 0.6768 - val_precision: 0.4789 - val_recall: 0.3798\n",
      "Epoch 10/10\n",
      "5928/5928 [==============================] - 4s 606us/step - loss: 0.0613 - acc: 0.9769 - precision: 0.9687 - recall: 0.9572 - val_loss: 1.5790 - val_acc: 0.6228 - val_precision: 0.4201 - val_recall: 0.5538\n"
     ]
    }
   ],
   "source": [
    "history = model.fit(x_train_pad_split, y_train_pad_split, validation_data=(x_val_pad_split, y_val_pad_split),\n",
    "                    batch_size=128, validation_split=0.2, epochs=10)"
   ]
  },
  {
   "cell_type": "code",
   "execution_count": 19,
   "metadata": {},
   "outputs": [],
   "source": [
    "import matplotlib.pyplot as plt"
   ]
  },
  {
   "cell_type": "code",
   "execution_count": 20,
   "metadata": {},
   "outputs": [
    {
     "data": {
      "text/plain": [
       "<matplotlib.legend.Legend at 0x1a2558f160>"
      ]
     },
     "execution_count": 20,
     "metadata": {},
     "output_type": "execute_result"
    },
    {
     "data": {
      "image/png": "[encoded data removed]",
      "text/plain": [
       "<matplotlib.figure.Figure at 0x1a253afb70>"
      ]
     },
     "metadata": {},
     "output_type": "display_data"
    }
   ],
   "source": [
    "plt.plot(history.history['acc'])\n",
    "plt.plot(history.history['val_acc'])\n",
    "plt.plot(history.history['precision'])\n",
    "plt.plot(history.history['val_precision'])\n",
    "plt.legend(['acc_train', 'acc_test', 'prec_train', 'prec_test'], loc='lower right')"
   ]
  },
  {
   "cell_type": "markdown",
   "metadata": {},
   "source": [
    "## Evaluate on the test set"
   ]
  },
  {
   "cell_type": "code",
   "execution_count": 17,
   "metadata": {},
   "outputs": [],
   "source": [
    "callbacks = [\n",
    "    TensorBoard(histogram_freq=0, batch_size=128, embeddings_freq=1),\n",
    "]"
   ]
  },
  {
   "cell_type": "code",
   "execution_count": 18,
   "metadata": {},
   "outputs": [
    {
     "name": "stdout",
     "output_type": "stream",
     "text": [
      "Epoch 1/3\n",
      "7410/7410 [==============================] - 4s 490us/step - loss: 0.6372 - acc: 0.6721 - precision: 0.0170 - recall: 0.0353\n",
      "Epoch 2/3\n",
      "7410/7410 [==============================] - 3s 446us/step - loss: 0.6039 - acc: 0.6883 - precision: 0.0086 - recall: 4.7983e-04\n",
      "Epoch 3/3\n",
      "7410/7410 [==============================] - 3s 446us/step - loss: 0.5158 - acc: 0.7356 - precision: 0.6726 - recall: 0.2837\n"
     ]
    }
   ],
   "source": [
    "model = build_model()\n",
    "\n",
    "history = model.fit(x_train_pad, y_train, batch_size=128, epochs=3, callbacks=callbacks)"
   ]
  },
  {
   "cell_type": "code",
   "execution_count": 19,
   "metadata": {
    "scrolled": true
   },
   "outputs": [
    {
     "name": "stdout",
     "output_type": "stream",
     "text": [
      "2000/2000 [==============================] - 0s 180us/step\n"
     ]
    },
    {
     "data": {
      "text/plain": [
       "[0.5887644205093384, 0.6915, 0.2817197949886322, 0.3031908062696457]"
      ]
     },
     "execution_count": 19,
     "metadata": {},
     "output_type": "execute_result"
    }
   ],
   "source": [
    "model.evaluate(x_test_pad, y_test)"
   ]
  },
  {
   "cell_type": "code",
   "execution_count": 20,
   "metadata": {},
   "outputs": [],
   "source": [
    "#model.save('models/sentipolc_word_cnn.hdf5')"
   ]
  },
  {
   "cell_type": "markdown",
   "metadata": {},
   "source": [
    "# Overall metrics"
   ]
  },
  {
   "cell_type": "code",
   "execution_count": 21,
   "metadata": {},
   "outputs": [],
   "source": [
    "from sklearn import metrics"
   ]
  },
  {
   "cell_type": "code",
   "execution_count": 22,
   "metadata": {},
   "outputs": [
    {
     "name": "stdout",
     "output_type": "stream",
     "text": [
      "precision: 0.7194805194805195 \n",
      "recall: 0.8044530493707648 \n",
      "f1: 0.759597806215722\n"
     ]
    }
   ],
   "source": [
    "predictions = model.predict_classes(x_train_pad, batch_size=128)\n",
    "tn, fp, fn, tp = metrics.confusion_matrix(y_train, predictions).ravel()\n",
    "\n",
    "recall = tp/(tp+fp)\n",
    "precision = tp/(tp+fn)\n",
    "f1 = metrics.f1_score(y_train,predictions)\n",
    "\n",
    "print ('precision: {}'.format(precision), '\\nrecall: {}'.format(recall), '\\nf1: {}'.format(f1))"
   ]
  }
 ],
 "metadata": {
  "kernelspec": {
   "display_name": "Python 3",
   "language": "python",
   "name": "python3"
  },
  "language_info": {
   "codemirror_mode": {
    "name": "ipython",
    "version": 3
   },
   "file_extension": ".py",
   "mimetype": "text/x-python",
   "name": "python",
   "nbconvert_exporter": "python",
   "pygments_lexer": "ipython3",
   "version": "3.6.4"
  }
 },
 "nbformat": 4,
 "nbformat_minor": 2
}
